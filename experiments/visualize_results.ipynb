{
 "cells": [
  {
   "cell_type": "code",
   "execution_count": 1,
   "metadata": {},
   "outputs": [
    {
     "name": "stderr",
     "output_type": "stream",
     "text": [
      "2025-02-20 00:09:44,771 - INFO - Configuration initialized\n"
     ]
    }
   ],
   "source": [
    "from dsl_gen.core import visualize_state"
   ]
  },
  {
   "cell_type": "code",
   "execution_count": 2,
   "metadata": {},
   "outputs": [],
   "source": [
    "import json\n",
    "\n",
    "# Read the JSON file\n",
    "with open('logs/results_2025-02-19_19-36-21.json', 'r') as file:\n",
    "    data = json.load(file)\n",
    "    \n",
    "states = [ state for state in data['details'] if state['final_state'] != 'success']"
   ]
  },
  {
   "cell_type": "code",
   "execution_count": 3,
   "metadata": {},
   "outputs": [
    {
     "name": "stdout",
     "output_type": "stream",
     "text": [
      "D:\\Projects\\PSC\\LLM-DSL-Gen\\benchmarks\\challenges\\c007.json\n"
     ]
    }
   ],
   "source": [
    "print(\"\\n\".join([state['challenge_path'] for state in states]))"
   ]
  },
  {
   "cell_type": "code",
   "execution_count": 4,
   "metadata": {},
   "outputs": [
    {
     "data": {
      "text/markdown": [
       "**Challenge Path:** `D:\\Projects\\PSC\\LLM-DSL-Gen\\benchmarks\\challenges\\c007.json`"
      ],
      "text/plain": [
       "<IPython.core.display.Markdown object>"
      ]
     },
     "metadata": {},
     "output_type": "display_data"
    },
    {
     "data": {
      "text/markdown": [
       "**Question:** `Define a table Students with 5 names, each associated to a teacher and a score. 3 of the 5 students should follow the teacher named \"John Doe\". Add a column to the Students table to indicate if a student is successful. A student is regarded successful if the score is strictly greater than 79. In a table, show John Doe's successful students' information, including their mean score, their best score and the student that achieves the best score.`"
      ],
      "text/plain": [
       "<IPython.core.display.Markdown object>"
      ]
     },
     "metadata": {},
     "output_type": "display_data"
    },
    {
     "data": {
      "text/markdown": [
       "**Question Type:** `coding`"
      ],
      "text/plain": [
       "<IPython.core.display.Markdown object>"
      ]
     },
     "metadata": {},
     "output_type": "display_data"
    },
    {
     "data": {
      "text/markdown": [
       "**Ground Truth Answer:**\n",
       "\n",
       "```envision\n",
       "table Students = with\n",
       "  [| as name, as teacher, as score |]\n",
       "  [| \"Sally\",\"John Doe\",98 |]\n",
       "  [| \"Mike\",\"John Doe\",79 |]\n",
       "  [| \"Andrew\",\"Manuel Joffre\",70 |]\n",
       "  [| \"Nathan\",\"Marie Curie\",80 |]\n",
       "  [| \"John\",\"John Doe\",93 |]\n",
       "\n",
       "Students.success = if Students.score > 79 then true else false // acceptable but too long\n",
       "Students.success = Students.score > 79 // the shorter version\n",
       "\n",
       "// add a filter. The 2-space start-of-line is mandatory to mark the field of the filter.\n",
       "where Students.teacher == \"John Doe\"  and Students.success\n",
       "  meanscore = mean(ranvar(Students.score)) \n",
       "  Mascon = max(Students.score) \n",
       "  bestname = argmax(Students.score, Students.name)\n",
       "  success_count=count(Students.success) // count shall always be deployed on a boolean column.\n",
       "\n",
       "// show the information as a table\n",
       "show table \"John Doe's students' info\" with \n",
       "  success_count as \"successful students count\" \n",
       "  meanscore as \"mean\"\n",
       "  Maxscore as \"maxscore\"\n",
       "  bestname as \"best student\"\n",
       "```"
      ],
      "text/plain": [
       "<IPython.core.display.Markdown object>"
      ]
     },
     "metadata": {},
     "output_type": "display_data"
    },
    {
     "data": {
      "text/markdown": [
       "**Retrieved Documents:**"
      ],
      "text/plain": [
       "<IPython.core.display.Markdown object>"
      ]
     },
     "metadata": {},
     "output_type": "display_data"
    },
    {
     "data": {
      "text/markdown": [
       "- `+++\n",
       "title = \"Relational algebra\"\n",
       "description = \"Envision is a hybrid between array programming and relational algebra. Envision is geared towards operations performed over relational databases, as com...`"
      ],
      "text/plain": [
       "<IPython.core.display.Markdown object>"
      ]
     },
     "metadata": {},
     "output_type": "display_data"
    },
    {
     "data": {
      "text/markdown": [
       "- `### Collecting the loss and the metrics  \n",
       "TODO: the syntax is only halfway implemented, the example below works but\n",
       "the table 'M' isn't properly populated.  \n",
       "```envision\n",
       "table T = with\n",
       "  [| as X, as Y...`"
      ],
      "text/plain": [
       "<IPython.core.display.Markdown object>"
      ]
     },
     "metadata": {},
     "output_type": "display_data"
    },
    {
     "data": {
      "text/markdown": [
       "- `### Exercise  \n",
       "What is the classification of each of those tables in the three `each` blocks below ?  \n",
       "```envision\n",
       "-proto\n",
       "read \"..\" as Category[category]\n",
       "read \"..\" as Product[sku] expect [category]\n",
       "re...`"
      ],
      "text/plain": [
       "<IPython.core.display.Markdown object>"
      ]
     },
     "metadata": {},
     "output_type": "display_data"
    },
    {
     "data": {
      "text/markdown": [
       "- `### Grammer Chapters  \n",
       "* Relational algebra\n",
       "* Natural joins\n",
       "* Filtering\n",
       "* Aggregating\n",
       "* Secondary dimensions\n",
       "* Cross tables\n",
       "* Table comprehensions\n",
       "* Table sizes\n",
       "* Ranvars and Zedfuncs\n",
       "* Enum Types\n",
       "* L...`"
      ],
      "text/plain": [
       "<IPython.core.display.Markdown object>"
      ]
     },
     "metadata": {},
     "output_type": "display_data"
    },
    {
     "data": {
      "text/markdown": [
       "- `## Tables  \n",
       "Envision adopts array programming, processing whole columns at once, like SQL.\n",
       "The `.` operator is used to specify the table, i.e. `MyTable.MyField`.  \n",
       "```envision\n",
       "// `sku`  is the primary...`"
      ],
      "text/plain": [
       "<IPython.core.display.Markdown object>"
      ]
     },
     "metadata": {},
     "output_type": "display_data"
    },
    {
     "data": {
      "text/markdown": [
       "- `## `each` blocks  \n",
       "The purpose of the `each` block is to extend what can be done via the relational algebra beyond stand-alone expressions. As the name suggests, `each` blocks offer the possibility to...`"
      ],
      "text/plain": [
       "<IPython.core.display.Markdown object>"
      ]
     },
     "metadata": {},
     "output_type": "display_data"
    },
    {
     "data": {
      "text/markdown": [
       "- `+++\n",
       "title = \"Natural joins\"\n",
       "description = \"Parallel operations performed over all the lines of a given table are very useful, however more often than not, multiple tables are involved. Envision provid...`"
      ],
      "text/plain": [
       "<IPython.core.display.Markdown object>"
      ]
     },
     "metadata": {},
     "output_type": "display_data"
    },
    {
     "data": {
      "text/markdown": [
       "- `### Aggregators and Functions Available  \n",
       "* **Basic:** argmax argmin argwhichever aresame count distinct distinctapprox max min product single sum\n",
       "* **Logic:** all any same whichever\n",
       "* **Ordered:** ch...`"
      ],
      "text/plain": [
       "<IPython.core.display.Markdown object>"
      ]
     },
     "metadata": {},
     "output_type": "display_data"
    },
    {
     "data": {
      "text/markdown": [
       "- `+++\n",
       "title = \"Aggregating\"\n",
       "description = \"Aggregation, i.e. combining multiple values into one, is ubiquitous in Envision and many other programming languages. The most widely used aggregators, that is...`"
      ],
      "text/plain": [
       "<IPython.core.display.Markdown object>"
      ]
     },
     "metadata": {},
     "output_type": "display_data"
    },
    {
     "data": {
      "text/markdown": [
       "- `## Dimensions  \n",
       "Dimensions can be extracted from a table comprehension or added into it. Dimensions are handy to build tables that have natural relationships predefined between them. For example, let’...`"
      ],
      "text/plain": [
       "<IPython.core.display.Markdown object>"
      ]
     },
     "metadata": {},
     "output_type": "display_data"
    },
    {
     "data": {
      "text/markdown": [
       "- `## Define an Enum explicitly to store fixed text values  \n",
       "An `enum` can be defined inline while explicitly listing all the allowed text values.\n",
       "This can be done with a `table enum` statement as illust...`"
      ],
      "text/plain": [
       "<IPython.core.display.Markdown object>"
      ]
     },
     "metadata": {},
     "output_type": "display_data"
    },
    {
     "data": {
      "text/markdown": [
       "- `+++\n",
       "title = \"Ranvars and Zedfuncs\"\n",
       "description = \"\"\n",
       "weight = 4\n",
       "+++  \n",
       "_Ranvars_ and _zedfuncs_ are two advanced data types supported by Envision respectively intended to represent probability distribut...`"
      ],
      "text/plain": [
       "<IPython.core.display.Markdown object>"
      ]
     },
     "metadata": {},
     "output_type": "display_data"
    },
    {
     "data": {
      "text/markdown": [
       "- `+++\n",
       "title = \"Table comprehensions\"\n",
       "description = \"\"\n",
       "weight = 7\n",
       "+++  \n",
       "The table comprehension is a general mechanism supported by Envision to create tables from other tables and literals. Many of the s...`"
      ],
      "text/plain": [
       "<IPython.core.display.Markdown object>"
      ]
     },
     "metadata": {},
     "output_type": "display_data"
    },
    {
     "data": {
      "text/markdown": [
       "- `## Syntax overview  \n",
       "The keyword `cross` is used to declare a cross table as illustrated by:  \n",
       "```envision\n",
       "table R = extend.range(2)\n",
       "table S = extend.range(3)\n",
       "\n",
       "table RS = cross(R, S)\n",
       "RS.A = R.N\n",
       "RS.B =...`"
      ],
      "text/plain": [
       "<IPython.core.display.Markdown object>"
      ]
     },
     "metadata": {},
     "output_type": "display_data"
    },
    {
     "data": {
      "text/markdown": [
       "- `## Explicit output table  \n",
       "Gaining control over the output table offers the possibility to join two arbitrary tables via an aggregation. This mechanism is achieved with the `by-at` options, which are ...`"
      ],
      "text/plain": [
       "<IPython.core.display.Markdown object>"
      ]
     },
     "metadata": {},
     "output_type": "display_data"
    },
    {
     "data": {
      "text/markdown": [
       "- `## Filtering a cross table  \n",
       "Filtering a cross table is possible, however the filtering process itself removes the ‘cross’ property, as the table does not hold any more a complete Cartesian product of...`"
      ],
      "text/plain": [
       "<IPython.core.display.Markdown object>"
      ]
     },
     "metadata": {},
     "output_type": "display_data"
    },
    {
     "data": {
      "text/markdown": [
       "- `## Comprehension block  \n",
       "The table comprehension leverages a (syntax) block in Envision introduced by the keyword `with`. This block allows arbitrary assignments to be made, it is _not_ restricted to ...`"
      ],
      "text/plain": [
       "<IPython.core.display.Markdown object>"
      ]
     },
     "metadata": {},
     "output_type": "display_data"
    },
    {
     "data": {
      "text/markdown": [
       "- `+++\n",
       "title = \"Filtering\"\n",
       "description = \"Filtering a table means identifying the lines that should be kept and those that should be removed. For the readers that are familiar with SQL, the filtering cap...`"
      ],
      "text/plain": [
       "<IPython.core.display.Markdown object>"
      ]
     },
     "metadata": {},
     "output_type": "display_data"
    },
    {
     "data": {
      "text/markdown": [
       "- `## Envision reference  \n",
       "**Reserved keywords:** and as at auto autodiff by const cross def default define delete desc draw each else enum expect export fail false for foreach group if import in index i...`"
      ],
      "text/plain": [
       "<IPython.core.display.Markdown object>"
      ]
     },
     "metadata": {},
     "output_type": "display_data"
    },
    {
     "data": {
      "text/markdown": [
       "- `+++\n",
       "title = \"Cross tables\"\n",
       "description = \"\"\n",
       "weight = 6\n",
       "+++  \n",
       "A cross table represents the Cartesian product between two tables. Cross tables are typically intended for situations that involve multiple...`"
      ],
      "text/plain": [
       "<IPython.core.display.Markdown object>"
      ]
     },
     "metadata": {},
     "output_type": "display_data"
    },
    {
     "data": {
      "text/markdown": [
       "**Raw Completion:** `{'type': 'ai', 'content': '```envision\\ntable Students = with\\n  [| as Name, as Teacher, as Score |]\\n  [| \"Alice\",  \"John Doe\", 85 |]\\n  [| \"Bob\",    \"John Doe\", 92 |]\\n  [| \"Charlie\",\"Jane Smith\", 78 |]\\n  [| \"David\",  \"John Doe\", 88 |]\\n  [| \"Eve\",    \"Jane Smith\", 95 |]\\n\\nStudents.Successful = Students.Score > 79\\n\\nJohnsSuccessful = where Students.Teacher == \"John Doe\" and Students.Successful\\n\\nshow table \"John\\'s Top Students\" with\\n  avg(JohnsSuccessful.Score) as \"Mean Score\"\\n  max(JohnsSuccessful.Score) as \"Best Score\"\\n  whichever(JohnsSuccessful.Name) when argmax(JohnsSuccessful.Score) as \"Top Student\"\\n```', 'additional_kwargs': {'refusal': None}, 'response_metadata': {'token_usage': {'completion_tokens': 857, 'prompt_tokens': 10492, 'total_tokens': 11349, 'completion_tokens_details': None, 'prompt_tokens_details': None}, 'model_name': 'Pro/deepseek-ai/DeepSeek-R1', 'system_fingerprint': '', 'finish_reason': 'stop', 'logprobs': None}}`"
      ],
      "text/plain": [
       "<IPython.core.display.Markdown object>"
      ]
     },
     "metadata": {},
     "output_type": "display_data"
    },
    {
     "data": {
      "text/markdown": [
       "**Final Completion:**\n",
       "\n",
       "```envision\n",
       "table Students = with\n",
       "  [| as Name, as Teacher, as Score |]\n",
       "  [| \"Alice\",  \"John Doe\", 85 |]\n",
       "  [| \"Bob\",    \"John Doe\", 92 |]\n",
       "  [| \"Charlie\",\"Jane Smith\", 78 |]\n",
       "  [| \"David\",  \"John Doe\", 88 |]\n",
       "  [| \"Eve\",    \"Jane Smith\", 95 |]\n",
       "\n",
       "Students.Successful = Students.Score > 79\n",
       "\n",
       "JohnsSuccessful = where Students.Teacher == \"John Doe\" and Students.Successful\n",
       "\n",
       "show table \"John's Top Students\" with\n",
       "  avg(JohnsSuccessful.Score) as \"Mean Score\"\n",
       "  max(JohnsSuccessful.Score) as \"Best Score\"\n",
       "  whichever(JohnsSuccessful.Name) when argmax(JohnsSuccessful.Score) as \"Top Student\"\n",
       "```"
      ],
      "text/plain": [
       "<IPython.core.display.Markdown object>"
      ]
     },
     "metadata": {},
     "output_type": "display_data"
    },
    {
     "data": {
      "text/markdown": [
       "**Compilation Result:** `False`"
      ],
      "text/plain": [
       "<IPython.core.display.Markdown object>"
      ]
     },
     "metadata": {},
     "output_type": "display_data"
    },
    {
     "data": {
      "text/markdown": [
       "**Compilation Messages:**\n",
       "Line 11: Found 'where' but expected 'for', 'each', text, boolean, number, 'match', schema path enter, 'enum', 'schema', identifier, markdown template start, text interpolation, '(', 'if', unaryoperator or 'with'. (Severity: Error)"
      ],
      "text/plain": [
       "<IPython.core.display.Markdown object>"
      ]
     },
     "metadata": {},
     "output_type": "display_data"
    },
    {
     "data": {
      "text/markdown": [
       "**Messages:**"
      ],
      "text/plain": [
       "<IPython.core.display.Markdown object>"
      ]
     },
     "metadata": {},
     "output_type": "display_data"
    },
    {
     "data": {
      "text/markdown": [
       "- `You are a proficient coder in a Domain Specific Language called Envision. Your task is to generate response to the given challenge. Some challenges will ask you to generate Envision code,others will ask you to explain given code or answer questions related to the Envision language. Do not output any intermediate thinking or explanation, only give the final answer.`"
      ],
      "text/plain": [
       "<IPython.core.display.Markdown object>"
      ]
     },
     "metadata": {},
     "output_type": "display_data"
    },
    {
     "data": {
      "text/markdown": [
       "- `Relevant Context:\n",
       "Document 1 (from D:/Projects/PSC/LLM-DSL-Gen/docs\\relational-algebra_index.md):\n",
       "+++\n",
       "title = \"Relational algebra\"\n",
       "description = \"Envision is a hybrid between array programming and relational algebra. Envision is geared towards operations performed over relational databases, as commonly found in enterprise systems, but it also abstracts away the need for loops, both for performance and reliability purposes, as commonly done with array programming languages.\"\n",
       "weight = 3\n",
       "+++  \n",
       "Envision is a hybrid between array programming and relational algebra. Envision is geared towards operations performed over relational databases, as commonly found in enterprise systems, but it also abstracts away the need for loops, both for performance and reliability purposes, as commonly done with array programming languages.  \n",
       "Every variable in Envision belongs to a **table**, and technically, identifies a **vector**, that is, a collection of values with one value per table line. Thus, when two variables belong to the same table, it becomes possible to perform operations on all lines at the same time.  \n",
       "```envision\n",
       "table Colors = with\n",
       "  [| as French, as English |]\n",
       "  [| \"Rouge\", \"Red\" |]\n",
       "  [| \"Bleu\", \"Blue\" |]\n",
       "  [| \"Vert\", \"Green\" |]\n",
       "\n",
       "Colors.Explain = \"\\{Colors.French} means \\{Colors.English}.\"\n",
       "\n",
       "show table \"My Translation\" with Colors.Explain\n",
       "```  \n",
       "The script above outputs a table that contains the 3 lines with the following content:  \n",
       "| Explain          |\n",
       "|------------------|\n",
       "| Rouge means Red  |\n",
       "| Bleu means Blue  |\n",
       "| Vert means Green |  \n",
       "The text format operation used to compute `Colors.Explain` has been done for all the lines of the `Colors` table at once.  \n",
       "Numeric operations can be performed in a similar way :  \n",
       "```envision\n",
       "table Orders = with\n",
       "  [| as Quantity, as UnitPrice |]\n",
       "  [| 3, 12.00 |]\n",
       "  [| 7, 20.50 |]\n",
       "  [| 2, 25.00 |]\n",
       "\n",
       "tax = 0.2\n",
       "Orders.Charge = Orders.Quantity * Orders.UnitPrice * (1 + tax)\n",
       "\n",
       "show table \"Tax Included\" with Orders.Charge\n",
       "```  \n",
       "Which gives the resulting table:  \n",
       "| Charge |\n",
       "|--------|\n",
       "| 43.2   |\n",
       "| 172.2  |\n",
       "| 60     |  \n",
       "The attentive reader might have noticed that the script above is mixing _two_ tables in the calculation of `Orders.Charge`: the `Orders` table and the `Scalar` table, the latter being implicit for both `tax` and the `1` number literal. This mechanism is referred to as _broadcasting_, and will be detailed in the following.  \n",
       "A _vector_ in the Envision realm is equivalent to a _column_ in the database realm. However, unlike SQL databases, creating and manipulating columns in Envision is the natural expected way to proceed. By leveraging operations that are automatically performed over a vector (i.e. a column), Envision removes the need to resort to manual loops (i.e. `for` loops) in the vast majority of supply chain situations.  \n",
       "_Advanced remark_: Envision tables are what Python or R users would recognize as Data Frames. Under the hood, Envision does not _reify_ all the vectors, even when those vectors get named through a variable. For performance, the compiler attempts to inline calculations whenever inlining is deemed more efficient than the alternative. For example, renaming a vector i.e. `Orders.ChargeBis = Orders.Charge` is a zero-cost operation in Envision.\n",
       "\n",
       "Document 2 (from D:/Projects/PSC/LLM-DSL-Gen/docs\\differentiable-programming.md):\n",
       "### Collecting the loss and the metrics  \n",
       "TODO: the syntax is only halfway implemented, the example below works but\n",
       "the table 'M' isn't properly populated.  \n",
       "```envision\n",
       "table T = with\n",
       "  [| as X, as Y |]\n",
       "  [| 1, 3.1 |]\n",
       "  [| 2, 3.9 |]\n",
       "  [| 3, 5.1 |]\n",
       "  [| 4, 6.0 |]\n",
       "\n",
       "table M = autodiff T with\n",
       "  params a auto\n",
       "  params b auto\n",
       "  return abs(a * T.X + b - T.Y)\n",
       "\n",
       "show scalar \"Learned\" a1c1 with \"y ≈ \\{a} x + \\{b}\"\n",
       "```  \n",
       "-->\n",
       "\n",
       "Document 3 (from D:/Projects/PSC/LLM-DSL-Gen/docs\\iterations.md):\n",
       "### Exercise  \n",
       "What is the classification of each of those tables in the three `each` blocks below ?  \n",
       "```envision\n",
       "-proto\n",
       "read \"..\" as Category[category]\n",
       "read \"..\" as Product[sku] expect [category]\n",
       "read \"..\" as Channel[channel]\n",
       "read \"..\" as Orders expect [channel, sku, date]\n",
       "\n",
       "table CategoryWeek = cross(Category, Week)\n",
       "table ProductWeek = cross(Product, Week)\n",
       "table ChannelWeek = cross(Channel, Week)\n",
       "\n",
       "Product.X = each Product\n",
       "  // Here ?\n",
       "\n",
       "Week.X = each Week\n",
       "  // Here ? \n",
       "\n",
       "Category.X = each Category\n",
       "  // Here ?\n",
       "```  \n",
       "#### Answers  \n",
       "| Table | `each Product` | `each Week` | `each Category` |\n",
       "|---|---|---|---|\n",
       "| `Product` | Observation | Full | Downstream |\n",
       "| `Week` | Full | Observation | Full |\n",
       "| `Category` | Upstream | Full | Observation |\n",
       "| `Channel` | Full | Full | Full |\n",
       "| `Orders` | Downstream | Downstream | Downstream |\n",
       "| `CategoryWeek` | Upstream-Cross | _Unavailable_ | Upstream-Cross |\n",
       "| `ProductWeek` | Upstream-Cross | _Unavailable_ | _Unavailable_ |\n",
       "| `ChannelWeek` | _Unavailable_ | _Unavailable_ | _Unavailable_ |\n",
       "\n",
       "Document 4 (from D:/Projects/PSC/LLM-DSL-Gen/docs\\envision-brief.md):\n",
       "### Grammer Chapters  \n",
       "* Relational algebra\n",
       "* Natural joins\n",
       "* Filtering\n",
       "* Aggregating\n",
       "* Secondary dimensions\n",
       "* Cross tables\n",
       "* Table comprehensions\n",
       "* Table sizes\n",
       "* Ranvars and Zedfuncs\n",
       "* Enum Types\n",
       "* Loops and iterations\n",
       "* User defined functions\n",
       "* Monte Carlo (`montecarlo` blocks)\n",
       "* Differentiable Programming (`autodiff` blocks)\n",
       "* Modules\n",
       "* Read and write files\n",
       "* Read dimensions\n",
       "* Read patterns\n",
       "* Read formats\n",
       "* Path schemas\n",
       "* Named schemas\n",
       "* Dashboards\n",
       "* Slicing dashboards\n",
       "* Calendar Elements\n",
       "* Read user inputs\n",
       "* Tile syntax\n",
       "* List of icons\n",
       "* StyleCode\n",
       "\n",
       "Document 5 (from D:/Projects/PSC/LLM-DSL-Gen/docs\\envision-brief.md):\n",
       "## Tables  \n",
       "Envision adopts array programming, processing whole columns at once, like SQL.\n",
       "The `.` operator is used to specify the table, i.e. `MyTable.MyField`.  \n",
       "```envision\n",
       "// `sku`  is the primary dimension of `Orders` (optional)\n",
       "table Orders[sku] = with\n",
       "  [| as sku, as Date          , as Qty, as Price , as Category |] // headers\n",
       "  [| \"a\",    date(2020, 1, 17), 5     , 1.5      , \"cat1\"      |]\n",
       "  [| \"b\",    date(2020, 2, 5) , 3     , 7.0      , \"cat1\"      |]\n",
       "  [| \"c\",    date(2020, 2, 7) , 1     , 2.0      , \"cat2\"      |]\n",
       "  [| \"d\",    date(2020, 2, 15), 7     , 5.7      , \"cat2\"      |]\n",
       " \n",
       "// `Orders.Amount` is the vector `Amount` within `Orders`\n",
       "Orders.Amount = Orders.Qty * Orders.Price // implicit loop, all lines at once\n",
       "\n",
       "// `show` introduces a tile of type `table`. `a1b3` is the position of tile (like Excel cells A1 to B3).\n",
       "show table \"Total Sales by SKU\" a1b3 with\n",
       "  // `with` introduces a block (like `:` in Python), followed by extra indent.\n",
       "  Orders.Category                              // 1st column, header `Category` (autogen)\n",
       "  count(Orders.*) as \"SKUs\"                    // 2nd column, header `SKUs` (via `as`)\n",
       "  sum(Orders.Amount) as \"Amount\" { unit:\"$\" }  // 3rd column, format via StyleCode `{..}`\n",
       "  // `group by` only allowed with a `show` block (optional)\n",
       "  group by Orders.Category\n",
       "```  \n",
       "Specifying the primary dimension is optional.\n",
       "Dimensions are lowercased by convention (not a requirement).  \n",
       "`count` and `sum` are aggregators.  \n",
       "Usually, tables are read from flat files:  \n",
       "```envision\n",
       "// `expect [date]` means that `date` is a secondary dimension of `Orders`\n",
       "// `Date[date]` is an auto-generated table. It spans the entire range of observed dates.\n",
       "read \"/sample/orders.csv\" as Orders expect [date] with\n",
       "  Date : date\n",
       "  Quantity : number\n",
       " \n",
       "show linechart \"Daily Quantities\" a1b4 with \n",
       "  sum(Orders.Quantity)\n",
       "```  \n",
       "A more elaborate example:  \n",
       "```envision\n",
       "// `id` primary dimension\n",
       "read \"/sample/items.tsv\" as Items[id] with\n",
       "  \"Id\" as id : text\n",
       "  Name : text\n",
       "  Brand : text\n",
       "\n",
       "// `expect [date]` is the go-to-option to access to `Day[date]`, `Week[week]` and `Month[month]` tables.\n",
       "read \"/sample/orders.tsv.gz\" as Orders expect [id, date] with\n",
       "  \"Id\" as id : text\n",
       "  \"Date\" as date : date\n",
       "  Quantity : number\n",
       "  NetAmount : number\n",
       "  Currency : text\n",
       " \n",
       "lastOrderDate = max(Orders.Date) // Aggregate to the `Scalar` table by default\n",
       " \n",
       "// Filtered tables: `Day`, `Week`, `Month` and `Orders`\n",
       "// `Orders` is filtered too because it has `date` as secondary dimension (via `expect`).\n",
       "where date >= lastOrderDate - 365 \n",
       "  // The most frequently used currency during the last year\n",
       "  currency = mode(Orders.Currency) when (date >= oend - 365)\n",
       "\n",
       "  // Convert all amounts to this most frequent currency\n",
       "  Orders.NetAmount = forex(Orders.NetAmount, Orders.Currency, currency, date)\n",
       "\n",
       "  // `{ .. }` is StyleCode (a bit like CSS)\n",
       "  show scalar \"Turnover\" d2 with \n",
       "    sum(Orders.NetAmount) { unit:#(currency) }\n",
       "  show scalar \"Orders lines\" e2 with\n",
       "    count(Orders.*)\n",
       "  show scalar \"Units\" f2 with \n",
       "    sum(Orders.Quantity)\n",
       "// De-indent, we have exited the scope of the `where` block\n",
       "\n",
       "// Back to the global scope\n",
       "show scalar \"All units ever sold\" d3 with\n",
       "  sum(Orders.Quantity)\n",
       "```  \n",
       "The `as` keyword is used to rename fields found in the flat file.\n",
       "\n",
       "Document 6 (from D:/Projects/PSC/LLM-DSL-Gen/docs\\iterations.md):\n",
       "## `each` blocks  \n",
       "The purpose of the `each` block is to extend what can be done via the relational algebra beyond stand-alone expressions. As the name suggests, `each` blocks offer the possibility to repeat a _block_ of independent operations for each line of a table.  \n",
       "An `each` block operates over a table referred to as the **observation table** - named immediately after the `each` keyword - and produces one or more vectors in that table. The following script illustrates the `each` block:  \n",
       "```envision\n",
       "table Obs = with\n",
       "  [| as N |]\n",
       "  [| 1 |]\n",
       "  [| 2 |]\n",
       "  [| 3 |]\n",
       "\n",
       "Obs.Cpy = each Obs\n",
       "  cpy = Obs.N + 1\n",
       "  return cpy\n",
       "\n",
       "show table \"\" a1b3 with Obs.N, Obs.Cpy\n",
       "```  \n",
       "However, the script above could be rewritten in a simpler way through the relational algebra with a stand-alone expression:  \n",
       "```envision\n",
       "table Obs = with\n",
       "  [| as N |]\n",
       "  [| 1 |]\n",
       "  [| 2 |]\n",
       "  [| 3 |]\n",
       "\n",
       "Obs.Cpy = Obs.N + 1\n",
       "\n",
       "show table \"\" a1b3 with Obs.N, Obs.Cpy\n",
       "```  \n",
       "As there are no dependencies between operations performed for every line of the observation table, the execution of the `each` block is automatically parallelized by the Envision runtime.  \n",
       "Inside the block, vectors from the observation table can be assigned to scalar variables, while vectors in tables that are unrelated to the observation table can be manipulated as full vectors:  \n",
       "```envision\n",
       "table Products = with\n",
       "  [| as Label, as PurchaseQty, as UnitPrice |]\n",
       "  [| \"Hat\",    37,             15.00        |]\n",
       "  [| \"Shirt\",  112,            55.00        |]\n",
       "\n",
       "table Discounts = with\n",
       "  [| as qty, as Discount |]\n",
       "  [| 1,      0           |]\n",
       "  [| 10,     0.1         |]\n",
       "  [| 100,    0.2         |]\n",
       "\n",
       "Products.Amount = each Products\n",
       "  Quantity = Products.PurchaseQty\n",
       "  Discount = last(Discounts.Discount) when(Discounts.Qty <= Quantity) sort Discounts.Qty\n",
       "  return Products.UnitPrice * (1 - Discount)\n",
       "\n",
       "show table \"\" a1c2 with\n",
       "  Products.Label\n",
       "  Products.PurchaseQty\n",
       "  Products.UnitPrice\n",
       "  Products.Amount\n",
       "```  \n",
       "In the above example, for each product, the entire table `Discounts` is traversed to find the discount associated with the quantity being purchased. Without `each`, the above logic could be implemented with `cross`:  \n",
       "```envision\n",
       "table Products = with\n",
       "  [| as Label, as PurchaseQty, as UnitPrice |]\n",
       "  [| \"Hat\",    37,             15.00        |]\n",
       "  [| \"Shirt\",  112,            55.00        |]\n",
       "\n",
       "table Discounts = with\n",
       "  [| as qty, as Discount |]\n",
       "  [| 1,      0           |]\n",
       "  [| 10,     0.1         |]\n",
       "  [| 100,    0.2         |]\n",
       "\n",
       "Products.Amount = with\n",
       "  Products.Discount = last(Discounts.Discount)\n",
       "    when (Discounts.Qty < Products.PurchaseQty)\n",
       "    cross (Products, Discounts)\n",
       "    sort Discounts.Qty\n",
       "  return Products.UnitPrice * (1 - Products.Discount)\n",
       "\n",
       "show table \"\" a1c2 with\n",
       "  Products.Label\n",
       "  Products.PurchaseQty\n",
       "  Products.UnitPrice\n",
       "  Products.Amount\n",
       "```  \n",
       "However the `each` block is more readable and more performant than a `cross` aggregation, especially once the logic grows so complex that several `cross` aggregations are required to represent it. It is therefore recommended to use `each` instead of `cross` (this does not apply to `cross .. by .. at`).  \n",
       "If the observation table happens to be the left component of a cross-table, then vectors from that cross-table can also be loaded into the `each` block:  \n",
       "```envision\n",
       "table Products = with\n",
       "  [| as Label, as UnitPrice |]\n",
       "  [| \"Hat\",    15.00        |]\n",
       "  [| \"Shirt\",  55.00        |]\n",
       "\n",
       "table Colors = with\n",
       "  [| as Color, as PriceFactor |]\n",
       "  [| \"blue\",   1.1            |]\n",
       "  [| \"red\",    1.2            |]\n",
       "  [| \"white\",  0.9            |]\n",
       "\n",
       "// 'Products' is the left component of 'Variants'\n",
       "table Variants = cross(Products, Colors)\n",
       "Variants.Price = Products.UnitPrice * Colors.PriceFactor\n",
       "\n",
       "// Must be computed outside of the 'each'\n",
       "Variants.MedProductPrice = median(Variants.Price) by Products.Label\n",
       "\n",
       "Products.MedOfMed = each Products\n",
       "  // Right cross table can import cross table value \n",
       "  // when each is performed on the left cross table\n",
       "  Colors.MedProductPrice = Variants.MedProductPrice\n",
       "  return median(Colors.MedProductPrice)\n",
       "\n",
       "show table \"\" a1c2 with\n",
       "  Products.Label\n",
       "  Products.MedOfMed\n",
       "```\n",
       "\n",
       "Document 7 (from D:/Projects/PSC/LLM-DSL-Gen/docs\\relational-algebra_natural-joins.md):\n",
       "+++\n",
       "title = \"Natural joins\"\n",
       "description = \"Parallel operations performed over all the lines of a given table are very useful, however more often than not, multiple tables are involved. Envision provides several mechanisms in order to perform operations that involve multiple tables, the most simple ones being dimensions and broadcasts, which offer the possibility to rely on natural joins.\"\n",
       "weight = 2\n",
       "+++  \n",
       "Parallel operations performed over all the lines of a given table are very useful, however more often than not, multiple tables are involved. Envision provides several mechanisms in order to perform operations that involve multiple tables, the most simple ones being _dimensions_ and _broadcasting_, which offer the possibility to rely on _natural joins_.  \n",
       "**Table of contents**\n",
       "{{< toc >}}{{< /toc >}}  \n",
       "_Advanced remark_: the whole point of natural joins in Envision is to omit entirely the JOIN expression as found in SQL. Indeed, when writing numerical recipes, there are usually only a few joins involved, but those joins end-up being repeated _ad nauseam_ at every single step of the calculation. Envision provides mechanisms to specify the relationships between tables and then lets all the calculations flow accordingly.\n",
       "\n",
       "Document 8 (from D:/Projects/PSC/LLM-DSL-Gen/docs\\envision-brief.md):\n",
       "### Aggregators and Functions Available  \n",
       "* **Basic:** argmax argmin argwhichever aresame count distinct distinctapprox max min product single sum\n",
       "* **Logic:** all any same whichever\n",
       "* **Ordered:** changed concat first join last smudge\n",
       "* **Statistics:** avg entropy median mode percentile stdev stdevp\n",
       "* **Ranvar:** mixture ranvar ranvar.buckets sum\n",
       "* **Zedfunc:** sum  \n",
       "* **Mathematics:** abs arground ceiling cos exp expsmooth floor log loggamma loglikelihood.loglogistic loglikelihood.normal loglikelihood.negativebinomial loglikelihood.poisson max min percent random.binomial random.integer random.loglogistic random.negativebinomial random.normal random.poisson random.shuffle random.uniform ratio round roundnext sin sqrt tanh\n",
       "* **Text:** concat contains containsany containscount endswith escape field fieldcount fieldr indexof lowercase padleft parsedate parsenumber parsetime printtime replace startswith strlen substr text trim tryparsedate tryparsenumber tryparsetime tryparseweek uppercase\n",
       "* **Calendar:** chineseyear chineseyearend chineseyearstart date daynum format isoyear monday month monthend monthnum monthstart today week weekNum year yearend yearstart\n",
       "* **Ranking:** argfirst arglast assoc.quantity cumsub cumsubfallback cumsum fifo priopack rank rankd smudge\n",
       "* **Graph:** canonical connected hascycles noncanonical partition\n",
       "* **Ranvar:** actionrwd.demand actionrwd.segment cdf crps dirac dispersion exponential fillrate forest.regress int loglogistic mean mixture negativebinomial normal poisson quantile random.ranvar ranvar ranvar.periodicr ranvar.segment ranvar.uniform smooth spark support.min support.max transform truncate variance\n",
       "* **UX:** Slices sliceSearchUrl\n",
       "* *Zedfunc:** actionrwd.reward constant diracz int linear pricebrk.f pricebrk.m stockrwd.c stockrwd.m stockrwd.s uniform uniform.left uniform.right valueAt zoz\n",
       "* **Table:** by extend.billOfMaterials extend.pairs extend.pairset extend.range extend.ranvar extend.split single by whichever by\n",
       "* **64-sets**: flag emptySet union intersection complement isSubsetOf contains printSet popCount.\n",
       "* **Special:** assertfail Files forex lastforex hash iscurrency mkuid nameof rgb solve.moq\n",
       "\n",
       "Document 9 (from D:/Projects/PSC/LLM-DSL-Gen/docs\\relational-algebra_aggregating.md):\n",
       "+++\n",
       "title = \"Aggregating\"\n",
       "description = \"Aggregation, i.e. combining multiple values into one, is ubiquitous in Envision and many other programming languages. The most widely used aggregators, that is functions that perform aggregation, are probably 'sum' and 'average', however there are many others. In Envision, aggregators are a special case of processes, a class of functions that benefit from special capabilities that make them more versatile. In this section, we focus on the aggregation angle, but we will get back to their processes in the later section 'User Defined Functions'.\"\n",
       "weight = 4\n",
       "+++  \n",
       "Aggregation, i.e. combining multiple values into one, is ubiquitous in Envision and many other programming languages. The most widely used aggregators, that is functions that perform aggregation, are probably _sum_ and _average_, however there are many others. In Envision, aggregators are a special case of _processes_, a class of functions that benefit from special capabilities that make them more versatile. In this section, we focus on the aggregation angle, but we will get back to their processes in the later section _User Defined Functions_.  \n",
       "**Table of contents**\n",
       "{{< toc >}}{{< /toc >}}\n",
       "\n",
       "Document 10 (from D:/Projects/PSC/LLM-DSL-Gen/docs\\relational-algebra_table-comprehensions.md):\n",
       "## Dimensions  \n",
       "Dimensions can be extracted from a table comprehension or added into it. Dimensions are handy to build tables that have natural relationships predefined between them. For example, let’s consider a `Products` table that is extended into a `Variants` table by adding multiple sizes to each product. The following script illustrates this process:  \n",
       "```envision\n",
       "table Products[Pid] = with\n",
       "  [| as Product |]\n",
       "  [| \"shirt\"    |]\n",
       "  [| \"pants\"    |]\n",
       "  [| \"socks\"    |]\n",
       "\n",
       "table Variants = with\n",
       "  [| as Pid, as Product, as Size |]\n",
       "  [| Pid, Products.Product, \"small\" |]\n",
       "  [| Pid, Products.Product, \"medium\" |]\n",
       "  [| Pid, Products.Product, \"large\" |]\n",
       "\n",
       "Products.Color = \"black\"\n",
       "Variants.Color = Products.Color\n",
       "\n",
       "show table \"Variants\" with\n",
       "  Products.Product\n",
       "  Variants.Size\n",
       "  Variants.Color\n",
       "```  \n",
       "Which displays the following table:  \n",
       "| Product | Size   | Color |\n",
       "|---------|--------|-------|\n",
       "| shirt   | small  | black |\n",
       "| pants   | small  | black |\n",
       "| socks   | small  | black |\n",
       "| shirt   | medium | black |\n",
       "| pants   | medium | black |\n",
       "| socks   | medium | black |\n",
       "| shirt   | large  | black |\n",
       "| pants   | large  | black |\n",
       "| socks   | large  | black |  \n",
       "The table `Products` is created via a table comprehension and it gets an autogenerated dimension named `Pid`. This opaque identifier (typed as an ordinal) does not ensure that every line in the `Product` table is distinct, it merely identifies the lines; whatever they are, in the `Products` table. Displaying the `Pid` variable is not allowed as this identifier is intended to be opaque.  \n",
       "Then, the table `Variants` is also created via a table comprehension. However, this time the comprehension embeds the dimension `Pid`. As the table `Variants` contains a column typed against a dimension of `Products`, this table is considered by Envision as an _extension_of the table `Products`. Thanks to this relationship, it’s possible to broadcast from `Products` to `Variants` as done in the line `Variants.Color = Products.Color`.  \n",
       "The above script can be simplified. The table comprehension can reuse a specific vector to be a dimension of the table (instead of using an autogenerated dimension as done above). This is done by having the name of the dimension matching the name of one of the vectors within the table comprehension. This mechanism is illustrated by:  \n",
       "```envision\n",
       "table Products[Product] = with\n",
       "  [| as Product |]\n",
       "  [| \"shirt\"    |]\n",
       "  [| \"pants\"    |]\n",
       "  [| \"socks\"    |]\n",
       "\n",
       "table Variants = with\n",
       "  [| as Product, as Size |]\n",
       "  [| Products.Product, \"small\" |]\n",
       "  [| Products.Product, \"medium\" |]\n",
       "  [| Products.Product, \"large\" |]\n",
       "\n",
       "Products.Color = \"black\"\n",
       "Variants.Color = Products.Color\n",
       "\n",
       "show table \"Variants\" with\n",
       "  Products.Product\n",
       "  Variants.Size\n",
       "  Variants.Color\n",
       "```  \n",
       "The declared dimension `Product` for the table `Products` matches its `Product` vector. As a result, `Product` ends-up being the _text_ dimension of the `Product` table. Unlike the `Pid` variable, which was an _ordinal_, it is possible to display the dimension `Products.Product` in the table at the end of the script.  \n",
       "Then, the `Variants` table is simplified as it does not need two distinct vectors `Pid` and `Product`. The vector `Product` serves both to define the relationship between `Variants` and `Products` and to make the product label accessible for display.  \n",
       "When a vector is reused as the table dimension within a comprehension, Envision enforces _at runtime_ that each dimension value is unique. This implies that a table comprehension that features duplicate values for its dimension results in an Envision run error.\n",
       "\n",
       "Document 11 (from D:/Projects/PSC/LLM-DSL-Gen/docs\\enums.md):\n",
       "## Define an Enum explicitly to store fixed text values  \n",
       "An `enum` can be defined inline while explicitly listing all the allowed text values.\n",
       "This can be done with a `table enum` statement as illustrated by:  \n",
       "```envision\n",
       "table enum Countries = \"BE\", \"FR\", \"UK\", \"US\"\n",
       "\n",
       "show table \"Countries\" a1b4 with\n",
       "  text(Countries.Value)\n",
       "  \"(\\{Countries.Label})\"\n",
       "\n",
       "be = enum<<Countries>>(\"BE\")\n",
       "show scalar \"Belgium\" c1 with text(be)\n",
       "```  \n",
       "In the above script, an `enum` named `Countries` is introduced in the first line. The values of the `enum` are displayed by the `table` tile. Finally, a single `text` value is converted to its `enum` counterpart, back to `text` for display within a `scalar` tile.  \n",
       "The call to the function `text(x : enum Countries)` is actually unnecessary in the specific context of a `show` statement. In this context, the conversion is done automatically. Thus, the beginning of the above script could be simplified as:  \n",
       "```envision\n",
       "table enum Countries = \"BE\", \"FR\", \"UK\", \"US\"\n",
       "\n",
       "show table \"Countries\" a1b4 with\n",
       "  Countries.Value\n",
       "  \"(\\{Countries.Label})\"\n",
       "```  \n",
       "The inline declaration of an enum can also be done over multiple lines:  \n",
       "```envision\n",
       "table enum Countries =\n",
       "  \"BE\"\n",
       "  \"FR\", \"UK\"\n",
       "  \"US\"\n",
       "```  \n",
       "The `table enum Countries` statement creates a series of elements:  \n",
       "1. A data type named `enum Countries`.\n",
       "2. A table named `Countries` with 1 line per `enum` value.\n",
       "3. A vector named `Countries.Label` that contains the text values of the `enum`.\n",
       "4. A vector named `Countries.Value` that contains the values of type `enum Countries`.\n",
       "5. A special function named `enum<<Countries>>(x : text)` to parse from `text` values.\n",
       "6. An overload of the `text(x : enum Countries)` function to convert to `text` values.  \n",
       "The `enum` labels are case-sensitive and any white space in the labels is significant. The `enum` values are unordered: they cannot be compared (via `<`) or sorted (via `sort`).  \n",
       "The table named after the `enum` can be used, among other things, to enumerate the values of the `enum` as it is done in the above script through the vector `Countries.Value`.  \n",
       "When defined inline, enums are eagerly processed during the script compilation. Thus, it is possible to have the definition of the enum appear, in the code, below the first use. For example, it is possible to rewrite the script above as:  \n",
       "```envision\n",
       "show table \"Countries\" a1b4 with\n",
       "  Countries.Value // enum auto-converted to text\n",
       "  \"(\\{Countries.Label})\"\n",
       "\n",
       "table enum Countries = \"BE\", \"FR\", \"UK\", \"US\"\n",
       "```  \n",
       "However, it is advised to keep `enum` declarations above the code that logically depends on  those enums. This feature is intended for specific situations where colocating the declaration of the enum with another part of the script is more readable than an early declaration.  \n",
       "Under the hood, the Envision runtime replaces the `text` labels of an `enum` by compact identifiers, which can be processed more efficiently than `text` values.  \n",
       "As a rule of thumb, once the data preparation is complete, we recommend using enums for most `text` columns of limited cardinality. The detail of the enums’ limitations is given in the following. Enums offer a simple mechanism to avoid entire classes of programming mistakes, for example testing equality between a country code and a currency code.  \n",
       "_Advanced remark:_ Enums represent a special case of what is typically known as a _generic_ type in languages like C# or Java. They are the sole complex data type supported by Envision. The intent behind the Envision enums is to provide type safety to its relational algebra. Envision enums are similar in essence to the PostgreSQL and MySQL enums.\n",
       "\n",
       "Document 12 (from D:/Projects/PSC/LLM-DSL-Gen/docs\\ranvars-zedfuncs.md):\n",
       "+++\n",
       "title = \"Ranvars and Zedfuncs\"\n",
       "description = \"\"\n",
       "weight = 4\n",
       "+++  \n",
       "_Ranvars_ and _zedfuncs_ are two advanced data types supported by Envision respectively intended to represent probability distributions and economic score functions. As there is a shared intent behind these two data types we present them together, although technically it would also be possible to introduce them separately. A joint presentation is also the opportunity to outline the numerous symmetries that exist between these two data types.  \n",
       "**Table of contents**\n",
       "{{< toc >}}{{< /toc >}}\n",
       "\n",
       "Document 13 (from D:/Projects/PSC/LLM-DSL-Gen/docs\\relational-algebra_table-comprehensions.md):\n",
       "+++\n",
       "title = \"Table comprehensions\"\n",
       "description = \"\"\n",
       "weight = 7\n",
       "+++  \n",
       "The table comprehension is a general mechanism supported by Envision to create tables from other tables and literals. Many of the script examples introduced so far leverage a simple hard-coded table, which is the simplest form of table comprehension. However, this form is only scratching the surface of what the table comprehension mechanism can do.  \n",
       "**Table of contents**\n",
       "{{< toc >}}{{< /toc >}}\n",
       "\n",
       "Document 14 (from D:/Projects/PSC/LLM-DSL-Gen/docs\\relational-algebra_cross-tables.md):\n",
       "## Syntax overview  \n",
       "The keyword `cross` is used to declare a cross table as illustrated by:  \n",
       "```envision\n",
       "table R = extend.range(2)\n",
       "table S = extend.range(3)\n",
       "\n",
       "table RS = cross(R, S)\n",
       "RS.A = R.N\n",
       "RS.B = S.N\n",
       "\n",
       "show table \"cross\" a1b5 with RS.A, RS.B\n",
       "```  \n",
       "In the above script, the two assignments of `RS.A` and `RS.B`, respectively originating from `R` and `S` work because the table `RS` has `R` and `S` as two upstream tables. The table tile displays the 6=2x3 lines, which result from the Cartesian product between `R` and `S`.  \n",
       "The right source table within a cross should be a [small table](../table-sizes/). This constraint ensures that large cross tables can be processed efficiently when performing complex operations, such as the ones allowed by the `each` keyword.  \n",
       "A cross table has exactly two primary dimensions. Thus, the two source tables must be distinct and have one primary dimension each. The scalar table and cross tables cannot be used as source tables.  \n",
       "Every operation that expects two or more vectors to be in the same table attempts at finding a common table between those vectors. A cross table, once declared, becomes a candidate for being this common table.  \n",
       "For example, a map operation performed between two independent tables operates over the cross table associated to this pair of tables:  \n",
       "```envision\n",
       "table R = extend.range(2)\n",
       "table S = extend.range(3)\n",
       "\n",
       "table RS = cross(R, S)\n",
       "s = sum((1 into R) + (1 into S))\n",
       "\n",
       "show scalar \"sum\" with s // 12\n",
       "```  \n",
       "In the above script, the sum `(1 into R) + (1 into S)` is broadcasted in the common table between `R` and `S`, that is, the cross table `RS`.  The resulting value, `2` over all the lines of the table `RS` is finally summed into `s`, a scalar variable.  \n",
       "The table `RS` must be declared for the above script to work. Indeed, Envision adopts a defensive design where combining within a single map operation two unrelated tables is illegal - unless the corresponding cross table is explicitly declared. This behavior prevents the accidental, and likely nonsensical, combination of values originating from unrelated tables.  \n",
       "A similar effect is obtained beyond the map operations, for example:  \n",
       "```envision\n",
       "table R = extend.range(2)\n",
       "table S = extend.range(3)\n",
       "table RS = cross(R, S)\n",
       "c = sum(sum(1) by [R.N, S.N]) // RS as common table\n",
       "show scalar \"count\" with c // 6\n",
       "````  \n",
       "Or alternatively:  \n",
       "```envision\n",
       "table R = extend.range(2)\n",
       "table S = extend.range(3)\n",
       "table RS = cross(R, S)\n",
       "show table \"cross\" a1b6 with R.N, S.N // RS as common table\n",
       "```  \n",
       "A cross table can be aggregated into its source tables:  \n",
       "```envision\n",
       "table R = extend.range(2)\n",
       "table S = extend.range(3)\n",
       "\n",
       "table RS = cross(R, S)\n",
       "RS.A = R.N\n",
       "RS.B = S.N\n",
       "\n",
       "R.C = sum(RS.A + RS.B)\n",
       "S.D = sum(RS.A + RS.B)\n",
       "\n",
       "show table \"R\" a1b5 with R.C\n",
       "show table \"S\" c1d5 with S.D\n",
       "```  \n",
       "In the above script, `R.C` (resp. `S.D`) is defined as an aggregation from the table `RS` to the table `R` (resp. `S`).  \n",
       "**Advanced remark**: Cross tables in Envision can be seen as a stepping stone toward an extensive tensor comprehension. The tensor comprehension paradigm is the descendent of the array programming paradigm.  \n",
       "**Roadmap:** Cross tables are limited to two source tables, however we plan to lift this limitation in the future.\n",
       "\n",
       "Document 15 (from D:/Projects/PSC/LLM-DSL-Gen/docs\\relational-algebra_aggregating.md):\n",
       "## Explicit output table  \n",
       "Gaining control over the output table offers the possibility to join two arbitrary tables via an aggregation. This mechanism is achieved with the `by-at` options, which are used as a pair for this purpose. Let’s revisit a variant of the example used in the previous section with:  \n",
       "```envision\n",
       "table Shipments = with\n",
       "  [| as Product, as Origin, as OrderDate, as Quantity |]\n",
       "  [| \"apple\", \"France\", date(2020, 4, 15), 3 |]\n",
       "  [| \"apple\", \"Spain\", date(2020, 4, 16), 7 |]\n",
       "  [| \"orange\", \"Italy\", date(2020, 4, 16), 2 |]\n",
       "  [| \"apple\", \"France\", date(2020, 4, 17), 5 |]\n",
       "\n",
       "table Routes = with\n",
       "  [| as Product, as Origin |]\n",
       "  [| \"apple\", \"France\" |]\n",
       "  [| \"apple\", \"Spain\" |]\n",
       "  [| \"orange\", \"Italy\" |]\n",
       "\n",
       "Routes.Incoming = sum(Shipments.Quantity)\n",
       "  by [Shipments.Product, Shipments.Origin]\n",
       "  at [Routes.Product, Routes.Origin]\n",
       "\n",
       "show table \"Routes\" with\n",
       "  Routes.Product\n",
       "  Routes.Origin\n",
       "  Routes.Incoming\n",
       "```  \n",
       "As the by-at expression used to define `Routes.Incoming` is somewhat verbose, the statement is split over 3 lines, leveraging the line continuation rules of Envision. The brackets `[` and `]` are used for the by-at options, with a syntax aligned with the declaration of a group table in the first script of this section.  \n",
       "The `at` option is used to define a group table over the output table (referred to as the left group table) and then bind it with the group table produced on top of the source table (referred to as the right group table). The final results are obtained by a broadcast from the right group table to the left group table. Left groups that don’t have any counterpart on the right side are replaced by default values on empty groups, this mechanism is revisited in the subsection “Empty Groups” below.  \n",
       "There are no particular limits to the number of dimensions that can be used as part of an aggregation, however beyond four, it’s probably a good idea to start investigating how the script can be refactored to avoid having so many dimensions involved.  \n",
       "_Advanced remarks_:  Most of the `JOIN` operations done in SQL can be removed with the `by-at` options offered by Envision. With most SQL databases, performing joins without proper indexes in place results in an atrocious performance. This is not the case in Envision. The necessary indexes are constructed on the fly during the execution, and the amount of compute resources tend to be proportional to the compressed size of the vectors involved.\n",
       "\n",
       "Document 16 (from D:/Projects/PSC/LLM-DSL-Gen/docs\\relational-algebra_cross-tables.md):\n",
       "## Filtering a cross table  \n",
       "Filtering a cross table is possible, however the filtering process itself removes the ‘cross’ property, as the table does not hold any more a complete Cartesian product of the source tables. Thus, filtering a cross table is performed by explicitly introducing the relevant table:  \n",
       "```envision\n",
       "table R = extend.range(2)\n",
       "table S = extend.range(3)\n",
       "\n",
       "table RS = cross(R, S)\n",
       "RS.N = R.N + S.N\n",
       "\n",
       "table RSf = where RS.N > 3\n",
       "RSf.N = RS.N\n",
       "\n",
       "show table \"RSf\" a1b4 with R.N, S.N, RSf.N // only 3 lines\n",
       "```  \n",
       "In the above script, the table `RSf` is defined as a filtered version of the cross table `RS`. This table inherits the primary dimensions of `RS` but those dimensions as inherited as secondary dimensions. As both `R` and `S` can broadcast into `RSf`, the table `RSf` is identified as the common table for the table tile.\n",
       "\n",
       "Document 17 (from D:/Projects/PSC/LLM-DSL-Gen/docs\\relational-algebra_table-comprehensions.md):\n",
       "## Comprehension block  \n",
       "The table comprehension leverages a (syntax) block in Envision introduced by the keyword `with`. This block allows arbitrary assignments to be made, it is _not_ restricted to a header and yields. For example, we can revisit the last script of the previous section, and isolate the aggregation of the total number of units sold with:  \n",
       "```envision\n",
       "table Products = with\n",
       "  [| as Product, as Sold |]\n",
       "  [| \"apple\", 4  |]\n",
       "  [| \"banana\", 2 |]\n",
       "  [| \"orange\", 7 |]\n",
       "\n",
       "table WithTotal = with\n",
       "  total = sum(Products.Sold)\n",
       "  [| Products.Product as Product, Products.Sold as Sold |]\n",
       "  [| \"Total\", total |]\n",
       "\n",
       "show table \"Products with total\" with\n",
       "  WithTotal.Product\n",
       "  WithTotal.Sold\n",
       "```  \n",
       "The script above is strictly identical to the last one of the previous section and displays the same table. The scalar aggregation `sum(Products.Sold)` is isolated at the beginning of the block through the assignment of the `total` variable. This variable is later used as part of the final yield.  \n",
       "Let’s immediately point out that assignments can be freely interleaved with the comprehension itself, for example the following script is also valid:  \n",
       "```envision\n",
       "table Products = with\n",
       "  [| as Product, as Sold |]\n",
       "  [| \"apple\", 4  |]\n",
       "  [| \"banana\", 2 |]\n",
       "  [| \"orange\", 7 |]\n",
       "\n",
       "table WithTotal = with\n",
       "  total = sum(Products.Sold)\n",
       "  [| Products.Product as Product, Products.Sold as Sold |]\n",
       "  copy = total\n",
       "  [| \"Total\", copy |]\n",
       "\n",
       "show table \"Products with total\" with\n",
       "  WithTotal.Product\n",
       "  WithTotal.Sold\n",
       "```  \n",
       "The script aboves interleaves the assignment `copy = total` between the two yields to illustrate that the comprehension block behaves (mostly) like a regular block of Envision code, putting aside the display of tiles and `return` statements.  \n",
       "Then, as with the return block, the variables that are introduced within the `with` block are _block scoped_. This implies that those variables cannot be used any more once the block has been exited. The following faulty script illustrates this behavior:  \n",
       "```envision\n",
       "table Products = with\n",
       "  [| as Product, as Sold |]\n",
       "  [| \"apple\", 4  |]\n",
       "  [| \"banana\", 2 |]\n",
       "  [| \"orange\", 7 |]\n",
       "\n",
       "table WithTotal = with\n",
       "  total = sum(Products.Sold)\n",
       "  [| Products.Product as Product, Products.Sold as Sold |]\n",
       "  [| \"Total\", total |]\n",
       "\n",
       "show label \"\\{total}\" // WRONG! Undefined variable 'Scalar.total'.\n",
       "```  \n",
       "This script gives a compilation error `Undefined variable 'Scalar.total'` which is precisely what we expected, as the last line attempts to access the variable `total` outside of its scope.\n",
       "\n",
       "Document 18 (from D:/Projects/PSC/LLM-DSL-Gen/docs\\relational-algebra_filtering.md):\n",
       "+++\n",
       "title = \"Filtering\"\n",
       "description = \"Filtering a table means identifying the lines that should be kept and those that should be removed. For the readers that are familiar with SQL, the filtering capabilities are those associated with the WHERE keyword. Envision provides several filtering mechanisms, the most notable ones are reviewed below.\"\n",
       "weight = 3\n",
       "+++  \n",
       "Filtering a table means identifying the lines that should be kept and those that should be removed. For the readers that are familiar with SQL, the filtering capabilities are those associated with the `WHERE` keyword. Envision provides several filtering mechanisms, the most notable ones are reviewed below.  \n",
       "**Table of contents**\n",
       "{{< toc >}}{{< /toc >}}\n",
       "\n",
       "Document 19 (from D:/Projects/PSC/LLM-DSL-Gen/docs\\envision-brief.md):\n",
       "## Envision reference  \n",
       "**Reserved keywords:** and as at auto autodiff by const cross def default define delete desc draw each else enum expect export fail false for foreach group if import in index into keep loop match mod montecarlo not or order over params read return sample scan show sort span table then true unsafe until when where while with write  \n",
       "**Contextual keywords:** assert barchart boolean chart date form histogram interval label latest linechart logo max min markdown month nosort number partitioned piechart plot private process pure ranvar scatter scalar single slicepicker slicetree small summary text upload week whichever zedfunc  \n",
       "The **operators** by increasing order of precedence:  \n",
       "* ..\n",
       "* if then else\n",
       "* (unary) + - ~ not\n",
       "* ^\n",
       "* (binary) * / /. mod\n",
       "* + -\n",
       "* (comparisons) < > <= >= == != ~~ !~ in\n",
       "* and\n",
       "* or\n",
       "* into\n",
       "* ...\n",
       "* .\n",
       "\n",
       "Document 20 (from D:/Projects/PSC/LLM-DSL-Gen/docs\\relational-algebra_cross-tables.md):\n",
       "+++\n",
       "title = \"Cross tables\"\n",
       "description = \"\"\n",
       "weight = 6\n",
       "+++  \n",
       "A cross table represents the Cartesian product between two tables. Cross tables are typically intended for situations that involve multiple dimensions (e.g. stores and products, SKUs and days, etc). Source tables can broadcast into the cross table. Cross tables also provide an additional class of vector operations within Envision.  \n",
       "**Table of contents**\n",
       "{{< toc >}}{{< /toc >}}\n",
       "\n",
       "Based on the above context and your knowledge, respond to:`"
      ],
      "text/plain": [
       "<IPython.core.display.Markdown object>"
      ]
     },
     "metadata": {},
     "output_type": "display_data"
    },
    {
     "data": {
      "text/markdown": [
       "- `Define a table Students with 5 names, each associated to a teacher and a score. 3 of the 5 students should follow the teacher named \"John Doe\". Add a column to the Students table to indicate if a student is successful. A student is regarded successful if the score is strictly greater than 79. In a table, show John Doe's successful students' information, including their mean score, their best score and the student that achieves the best score.`"
      ],
      "text/plain": [
       "<IPython.core.display.Markdown object>"
      ]
     },
     "metadata": {},
     "output_type": "display_data"
    },
    {
     "data": {
      "text/markdown": [
       "- ````envision\n",
       "table Students = with\n",
       "  [| as Name, as Teacher, as Score |]\n",
       "  [| \"Alice\",  \"John Doe\", 85 |]\n",
       "  [| \"Bob\",    \"John Doe\", 92 |]\n",
       "  [| \"Charlie\",\"Jane Smith\", 78 |]\n",
       "  [| \"David\",  \"John Doe\", 88 |]\n",
       "  [| \"Eve\",    \"Jane Smith\", 95 |]\n",
       "\n",
       "Students.Successful = Students.Score > 79\n",
       "\n",
       "JohnsSuccessful = where Students.Teacher == \"John Doe\" and Students.Successful\n",
       "\n",
       "show table \"John's Top Students\" with\n",
       "  avg(JohnsSuccessful.Score) as \"Mean Score\"\n",
       "  max(JohnsSuccessful.Score) as \"Best Score\"\n",
       "  whichever(JohnsSuccessful.Name) when argmax(JohnsSuccessful.Score) as \"Top Student\"\n",
       "````"
      ],
      "text/plain": [
       "<IPython.core.display.Markdown object>"
      ]
     },
     "metadata": {},
     "output_type": "display_data"
    },
    {
     "data": {
      "text/markdown": [
       "- `Your completion failed to compile.\n",
       "Error: Line 11: Found 'where' but expected 'for', 'each', text, boolean, number, 'match', schema path enter, 'enum', 'schema', identifier, markdown template start, text interpolation, '(', 'if', unaryoperator or 'with'. (Severity: Error)\n",
       "This was attempt 1.`"
      ],
      "text/plain": [
       "<IPython.core.display.Markdown object>"
      ]
     },
     "metadata": {},
     "output_type": "display_data"
    },
    {
     "data": {
      "text/markdown": [
       "- ````envision\n",
       "table Students = with\n",
       "  [| as Name, as Teacher, as Score |]\n",
       "  [| \"Alice\",  \"John Doe\", 85 |]\n",
       "  [| \"Bob\",    \"John Doe\", 92 |]\n",
       "  [| \"Charlie\",\"Jane Smith\", 78 |]\n",
       "  [| \"David\",  \"John Doe\", 88 |]\n",
       "  [| \"Eve\",    \"Jane Smith\", 95 |]\n",
       "\n",
       "Students.Successful = Students.Score > 79\n",
       "\n",
       "JohnsSuccessful = where Students.Teacher == \"John Doe\" and Students.Successful\n",
       "\n",
       "show table \"John's Top Students\" with\n",
       "  avg(JohnsSuccessful.Score) as \"Mean Score\"\n",
       "  max(JohnsSuccessful.Score) as \"Best Score\"\n",
       "  whichever(JohnsSuccessful.Name) when argmax(JohnsSuccessful.Score) as \"Top Student\"\n",
       "````"
      ],
      "text/plain": [
       "<IPython.core.display.Markdown object>"
      ]
     },
     "metadata": {},
     "output_type": "display_data"
    },
    {
     "data": {
      "text/markdown": [
       "- `Your completion failed to compile.\n",
       "Error: Line 11: Found 'where' but expected 'for', 'each', text, boolean, number, 'match', schema path enter, 'enum', 'schema', identifier, markdown template start, text interpolation, '(', 'if', unaryoperator or 'with'. (Severity: Error)\n",
       "This was attempt 2.`"
      ],
      "text/plain": [
       "<IPython.core.display.Markdown object>"
      ]
     },
     "metadata": {},
     "output_type": "display_data"
    }
   ],
   "source": [
    "state = states[0]\n",
    "visualize_state(state)"
   ]
  },
  {
   "cell_type": "code",
   "execution_count": null,
   "metadata": {},
   "outputs": [],
   "source": []
  }
 ],
 "metadata": {
  "kernelspec": {
   "display_name": "mvd-3d",
   "language": "python",
   "name": "python3"
  },
  "language_info": {
   "codemirror_mode": {
    "name": "ipython",
    "version": 3
   },
   "file_extension": ".py",
   "mimetype": "text/x-python",
   "name": "python",
   "nbconvert_exporter": "python",
   "pygments_lexer": "ipython3",
   "version": "3.10.11"
  }
 },
 "nbformat": 4,
 "nbformat_minor": 2
}
