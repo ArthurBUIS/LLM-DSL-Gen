{
 "cells": [
  {
   "cell_type": "markdown",
   "metadata": {},
   "source": [
    "# Workflow"
   ]
  },
  {
   "cell_type": "markdown",
   "metadata": {},
   "source": [
    "Setup magic autoreload"
   ]
  },
  {
   "cell_type": "code",
   "execution_count": 1,
   "metadata": {},
   "outputs": [],
   "source": [
    "%load_ext autoreload\n",
    "%autoreload 2"
   ]
  },
  {
   "cell_type": "markdown",
   "metadata": {},
   "source": [
    "Setup logging"
   ]
  },
  {
   "cell_type": "code",
   "execution_count": 1,
   "metadata": {},
   "outputs": [],
   "source": [
    "import logging\n",
    "from pathlib import Path\n",
    "from IPython.display import Image, display, Markdown\n",
    "from langchain_core.runnables.graph import CurveStyle, MermaidDrawMethod, NodeStyles\n",
    "logging.basicConfig(level=logging.INFO, format='%(asctime)s - %(name)s - %(levelname)s - %(message)s')"
   ]
  },
  {
   "cell_type": "markdown",
   "metadata": {},
   "source": [
    "## First glance"
   ]
  },
  {
   "cell_type": "code",
   "execution_count": 2,
   "metadata": {},
   "outputs": [
    {
     "data": {
      "image/png": "[encoded data removed]",
      "text/plain": [
       "<IPython.core.display.Image object>"
      ]
     },
     "metadata": {},
     "output_type": "display_data"
    }
   ],
   "source": [
    "from dsl_gen.core.flows import build_rag_flow\n",
    "\n",
    "flow = build_rag_flow()\n",
    "display(\n",
    "    Image(\n",
    "        flow.get_graph().draw_mermaid_png(\n",
    "            draw_method=MermaidDrawMethod.API,\n",
    "        )\n",
    "    )\n",
    ")"
   ]
  },
  {
   "cell_type": "markdown",
   "metadata": {},
   "source": [
    "## How to use"
   ]
  },
  {
   "cell_type": "code",
   "execution_count": 22,
   "metadata": {},
   "outputs": [
    {
     "name": "stderr",
     "output_type": "stream",
     "text": [
      "2025-02-05 14:22:42,499 - dsl_gen - INFO - Retrieved 20 docs for query: Create a table Catal\n",
      "2025-02-05 14:22:44,340 - httpx - INFO - HTTP Request: POST https://api.openai.com/v1/chat/completions \"HTTP/1.1 200 OK\"\n"
     ]
    },
    {
     "data": {
      "text/markdown": [
       "### Question"
      ],
      "text/plain": [
       "<IPython.core.display.Markdown object>"
      ]
     },
     "metadata": {},
     "output_type": "display_data"
    },
    {
     "data": {
      "text/markdown": [
       "Create a table Catalog containing different items Name and their color. \"red\" should be a color cited. Create another table containing the same dimension but only with the red items. Show the Name of the red items."
      ],
      "text/plain": [
       "<IPython.core.display.Markdown object>"
      ]
     },
     "metadata": {},
     "output_type": "display_data"
    },
    {
     "data": {
      "text/markdown": [
       "### Coder's Completion"
      ],
      "text/plain": [
       "<IPython.core.display.Markdown object>"
      ]
     },
     "metadata": {},
     "output_type": "display_data"
    },
    {
     "data": {
      "text/markdown": [
       "```envision\n",
       "table Catalog = with\n",
       "  [| as Name, as Color |]\n",
       "  [| \"Item A\", \"blue\"   |]\n",
       "  [| \"Item B\", \"red\"    |]\n",
       "  [| \"Item C\", \"green\"  |]\n",
       "  [| \"Item D\", \"red\"    |]\n",
       "\n",
       "table RedItems = where Color == \"red\"\n",
       "RedItems.Name = Catalog.Name\n",
       "\n",
       "show table \"Red Items\" with RedItems.Name\n",
       "```"
      ],
      "text/plain": [
       "<IPython.core.display.Markdown object>"
      ]
     },
     "metadata": {},
     "output_type": "display_data"
    },
    {
     "name": "stderr",
     "output_type": "stream",
     "text": [
      "2025-02-05 14:22:45,033 - dsl_gen - WARNING - Compilation failed (Attempt 1):\n",
      "table Catalog = with\n",
      "  [| as Name, as Color |]\n",
      "  [| \"Item A\", \"blue\"   |]\n",
      "  [| \"Item B\", \"red\"    |]\n",
      "  [| \"Item C\", \"green\"  |]\n",
      "  [| \"Item D\", \"red\"    |]\n",
      "\n",
      "table RedItems = where Color == \"red\"\n",
      "RedItems.Name = Catalog.Name\n",
      "\n",
      "show table \"Red Items\" with RedItems.Name\n",
      "2025-02-05 14:22:46,408 - httpx - INFO - HTTP Request: POST https://api.openai.com/v1/chat/completions \"HTTP/1.1 200 OK\"\n"
     ]
    },
    {
     "data": {
      "text/markdown": [
       "### Question"
      ],
      "text/plain": [
       "<IPython.core.display.Markdown object>"
      ]
     },
     "metadata": {},
     "output_type": "display_data"
    },
    {
     "data": {
      "text/markdown": [
       "Create a table Catalog containing different items Name and their color. \"red\" should be a color cited. Create another table containing the same dimension but only with the red items. Show the Name of the red items."
      ],
      "text/plain": [
       "<IPython.core.display.Markdown object>"
      ]
     },
     "metadata": {},
     "output_type": "display_data"
    },
    {
     "data": {
      "text/markdown": [
       "### Coder's Completion"
      ],
      "text/plain": [
       "<IPython.core.display.Markdown object>"
      ]
     },
     "metadata": {},
     "output_type": "display_data"
    },
    {
     "data": {
      "text/markdown": [
       "```envision\n",
       "table Products = with\n",
       "  [| as Name, as Color |]\n",
       "  [| \"Hat\", \"red\"    |]\n",
       "  [| \"Shirt\", \"blue\" |]\n",
       "  [| \"Jeans\", \"red\" |]\n",
       "  [| \"Shoes\", \"green\" |]\n",
       "\n",
       "table RedProducts = where Color == \"red\"\n",
       "RedProducts.Name = Products.Name\n",
       "\n",
       "show table \"Red Items\" with RedProducts.Name\n",
       "```"
      ],
      "text/plain": [
       "<IPython.core.display.Markdown object>"
      ]
     },
     "metadata": {},
     "output_type": "display_data"
    },
    {
     "name": "stderr",
     "output_type": "stream",
     "text": [
      "2025-02-05 14:22:46,820 - dsl_gen - WARNING - Compilation failed (Attempt 2):\n",
      "table Products = with\n",
      "  [| as Name, as Color |]\n",
      "  [| \"Hat\", \"red\"    |]\n",
      "  [| \"Shirt\", \"blue\" |]\n",
      "  [| \"Jeans\", \"red\" |]\n",
      "  [| \"Shoes\", \"green\" |]\n",
      "\n",
      "table RedProducts = where Color == \"red\"\n",
      "RedProducts.Name = Products.Name\n",
      "\n",
      "show table \"Red Items\" with RedProducts.Name\n",
      "2025-02-05 14:22:48,194 - httpx - INFO - HTTP Request: POST https://api.openai.com/v1/chat/completions \"HTTP/1.1 200 OK\"\n"
     ]
    },
    {
     "data": {
      "text/markdown": [
       "### Question"
      ],
      "text/plain": [
       "<IPython.core.display.Markdown object>"
      ]
     },
     "metadata": {},
     "output_type": "display_data"
    },
    {
     "data": {
      "text/markdown": [
       "Create a table Catalog containing different items Name and their color. \"red\" should be a color cited. Create another table containing the same dimension but only with the red items. Show the Name of the red items."
      ],
      "text/plain": [
       "<IPython.core.display.Markdown object>"
      ]
     },
     "metadata": {},
     "output_type": "display_data"
    },
    {
     "data": {
      "text/markdown": [
       "### Coder's Completion"
      ],
      "text/plain": [
       "<IPython.core.display.Markdown object>"
      ]
     },
     "metadata": {},
     "output_type": "display_data"
    },
    {
     "data": {
      "text/markdown": [
       "```envision\n",
       "table Catalog = with\n",
       "  [| as Name, as Color |]\n",
       "  [| \"Pen\",  \"blue\"    |]\n",
       "  [| \"Book\", \"red\"     |]\n",
       "  [| \"Desk\", \"green\"   |]\n",
       "\n",
       "table RedItems = where Color == \"red\"\n",
       "\n",
       "show table \"Red Items\" with RedItems.Name\n",
       "```"
      ],
      "text/plain": [
       "<IPython.core.display.Markdown object>"
      ]
     },
     "metadata": {},
     "output_type": "display_data"
    },
    {
     "name": "stderr",
     "output_type": "stream",
     "text": [
      "2025-02-05 14:22:48,597 - dsl_gen - WARNING - Compilation failed (Attempt 3):\n",
      "table Catalog = with\n",
      "  [| as Name, as Color |]\n",
      "  [| \"Pen\",  \"blue\"    |]\n",
      "  [| \"Book\", \"red\"     |]\n",
      "  [| \"Desk\", \"green\"   |]\n",
      "\n",
      "table RedItems = where Color == \"red\"\n",
      "\n",
      "show table \"Red Items\" with RedItems.Name\n"
     ]
    },
    {
     "data": {
      "text/markdown": [
       "```envision\n",
       "table Catalog = with\n",
       "  [| as Name, as Color |]\n",
       "  [| \"Pen\",  \"blue\"    |]\n",
       "  [| \"Book\", \"red\"     |]\n",
       "  [| \"Desk\", \"green\"   |]\n",
       "\n",
       "table RedItems = where Color == \"red\"\n",
       "\n",
       "show table \"Red Items\" with RedItems.Name```"
      ],
      "text/plain": [
       "<IPython.core.display.Markdown object>"
      ]
     },
     "metadata": {},
     "output_type": "display_data"
    }
   ],
   "source": [
    "from dsl_gen import CFG\n",
    "\n",
    "CFG.MODEL_CFG.active_model = \"openai\"\n",
    "challenge_path = Path(CFG.PATH_CFG.CHALLENGES_PATH) / \"c008.json\" \n",
    "\n",
    "flow = build_rag_flow()\n",
    "\n",
    "result = flow.invoke({\"challenge_path\": str(challenge_path)}) \n",
    "\n",
    "display(Markdown(f\"```envision\\n{result['completion']}```\"))"
   ]
  },
  {
   "cell_type": "markdown",
   "metadata": {},
   "source": [
    "# Components"
   ]
  },
  {
   "cell_type": "markdown",
   "metadata": {},
   "source": [
    "## Build vectorstore"
   ]
  },
  {
   "cell_type": "markdown",
   "metadata": {},
   "source": [
    "Uncomment the following line to build vectorstore manually."
   ]
  },
  {
   "cell_type": "code",
   "execution_count": 3,
   "metadata": {},
   "outputs": [],
   "source": [
    "# from dsl_gen.core.vector_store import _build_vectorstore\n",
    "# store = _build_vectorstore()"
   ]
  },
  {
   "cell_type": "markdown",
   "metadata": {},
   "source": [
    "# Visualize vectordb"
   ]
  },
  {
   "cell_type": "markdown",
   "metadata": {},
   "source": [
    "## Visualize a question"
   ]
  },
  {
   "cell_type": "code",
   "execution_count": 4,
   "metadata": {},
   "outputs": [
    {
     "data": {
      "text/markdown": [
       "Define a text literal called greetings with value \"Hello\" and display greetings on the dashboard as a label."
      ],
      "text/plain": [
       "<IPython.core.display.Markdown object>"
      ]
     },
     "metadata": {},
     "output_type": "display_data"
    },
    {
     "data": {
      "text/markdown": [
       "```envision\n",
       "greetings = \"Hello\" // define the text literal\n",
       "show label greetings // show the text literal as a label. There should be no 'with' !\n",
       "```"
      ],
      "text/plain": [
       "<IPython.core.display.Markdown object>"
      ]
     },
     "metadata": {},
     "output_type": "display_data"
    }
   ],
   "source": [
    "from IPython.display import Markdown\n",
    "query = 'Define a text literal called greetings with value \"Hello\" and display greetings on the dashboard as a label.'\n",
    "display(Markdown(query))\n",
    "answer = '```envision\\ngreetings = \"Hello\" // define the text literal\\nshow label greetings // show the text literal as a label. There should be no \\'with\\' !\\n```'\n",
    "display(Markdown(answer))"
   ]
  },
  {
   "cell_type": "markdown",
   "metadata": {},
   "source": [
    "## Build vectorstore"
   ]
  },
  {
   "cell_type": "code",
   "execution_count": 5,
   "metadata": {},
   "outputs": [
    {
     "name": "stderr",
     "output_type": "stream",
     "text": [
      "2025-02-05 13:34:21,788 - dsl_gen - INFO - Loading embedding model into memory: hf/sentence-transformers/all-mpnet-base-v2\n",
      "2025-02-05 13:34:32,107 - sentence_transformers.SentenceTransformer - INFO - Load pretrained SentenceTransformer: sentence-transformers/all-mpnet-base-v2\n",
      "2025-02-05 13:34:46,652 - dsl_gen - INFO - Loading cached vectorstore from D:/Projects/PSC/LLM-DSL-Gen/vector_db\\vectorstore_hf_sentence-transformers_all-mpnet-base-v2\n",
      "2025-02-05 13:34:46,660 - faiss.loader - INFO - Loading faiss with AVX2 support.\n",
      "2025-02-05 13:34:46,754 - faiss.loader - INFO - Successfully loaded faiss with AVX2 support.\n",
      "2025-02-05 13:34:46,767 - faiss - INFO - Failed to load GPU Faiss: name 'GpuIndexIVFFlat' is not defined. Will not load constructor refs for GPU indexes.\n"
     ]
    }
   ],
   "source": [
    "from dsl_gen.core.vector_store import get_vectorstore\n",
    "from dsl_gen.config import CFG\n",
    "\n",
    "# It is normal that you see INFO - Failed to load GPU Faiss\n",
    "# Since we are using CPU Faiss\n",
    "vectorstore = get_vectorstore()"
   ]
  },
  {
   "cell_type": "markdown",
   "metadata": {},
   "source": [
    "<span style=\"color:green;\"><b>It is normal that you see the message</b></span> `Failed to load GPU Faiss` <span style=\"color:green;\"><b>since we are using</b></span> `Faiss-CPU`.\n",
    "\n",
    "Let's see how to retrieve docs by their indices"
   ]
  },
  {
   "cell_type": "code",
   "execution_count": 7,
   "metadata": {},
   "outputs": [
    {
     "data": {
      "text/markdown": [
       "+++\n",
       "title = \"Big Picture\"\n",
       "description = \"\"\n",
       "weight = 2\n",
       "+++  \n",
       "Lokad is a programmatic, SaaS platform designed for Supply Chain Scientists to execute Quantitative Supply Chain initiatives. The present documentation has been created for a modestly technical audience - typically people who feel at ease writing spreadsheet formulas. Lokad is intended to be accessible to people who are not professional software engineers, but supply chain experts. Below, we provide a technical overview of Lokad, and an initial introduction to Envision, its Domain Specific programming Language (DSL).  \n",
       "**Table of contents**\n",
       "{{< toc >}}{{< /toc >}}"
      ],
      "text/plain": [
       "<IPython.core.display.Markdown object>"
      ]
     },
     "metadata": {},
     "output_type": "display_data"
    },
    {
     "data": {
      "text/markdown": [
       "## Motivated by Supply Chain  \n",
       "The [Quantitative Supply Chain](https://www.lokad.com/resources) represents a specific way of tackling Supply Chain Management (SCM) challenges, which Lokad has pioneered and refined over the years. Lokad adopts a broad perspective on SCM, as pricing and assortment decisions also fall under our SCM umbrella. Indeed, SCM is not only about “keeping up” with demand, but also shaping it whenever it is opportune or profitable.  \n",
       "Lokad is a _programmatic_ SaaS platform that has been engineered to craft, deliver and maintain _bespoke predictive optimization apps_ intended to execute Quantitative Supply Chain initiatives. In this respect, Lokad is quite unlike most enterprise apps. Lokad does not deliver an out of the box _solution_. Lokad provides the _capabilities_ to build a bespoke app that delivers the solution. This app can automatically process all relevant data and deliver both optimized results and the supporting dashboards. The app is written in a programming language named _Envision_, that has been engineered by Lokad. Unlike general purpose programming languages, Envision is accessible to non specialists, i.e. people who are not professional software engineers.  \n",
       "We refer to people who are capable of executing Quantitative Supply Chain initiatives as [Supply Chain Scientists](https://www.lokad.com/the-supply-chain-scientist). The goal of the present documentation is to provide the technical know-how related to Envision in order to execute such initiatives. Envision is heavily geared towards the resolution of common supply chain problems, however, the actual resolution of supply chain problems requires a fair amount of supply chain expertise before any kind of programming is performed. Actually, we believe that with proper tools, like Envision, supply chain expertise is by far the biggest challenge - not programming with Envision.  \n",
       "Lokad comes in two flavors: either pure software or software+experts. With our clients, we nearly always start with the software+experts flavor, where Lokad provides a team of Supply Chain Scientists _as a service_ on top of providing its SaaS (Software as a Service) platform. Over Lokad’s history, we realized early on that one of the most powerful ways of de-risking supply chain initiatives was to rely on experienced teams who had “already done it”. Fail fast and break things is typically not advised for supply chain undertakings.  \n",
       "Nevertheless, Lokad’s technical documentation is public and anyone can train to become a Supply Chain Scientist and Envision wizard. This documentation is used internally at Lokad to train our new Supply Chain Scientists to use our platform. It can also be used by client companies to train their own teams, and ultimately take over the management of their own predictive optimization apps. Beyond that, we also believe that this documentation is of interest to supply chain enthusiasts who have realized, like us, that most popular supply chain recipes, such as ABC analysis or safety stocks, are simply not _good enough_."
      ],
      "text/plain": [
       "<IPython.core.display.Markdown object>"
      ]
     },
     "metadata": {},
     "output_type": "display_data"
    },
    {
     "data": {
      "text/markdown": [
       "## The genesis of Envision  \n",
       "Envision was not part of our technology roadmap when Lokad was founded in 2008. It took us several years, from 2008 and 2013, and numerous unsuccessful attempts at alternative solutions to even start considering an undertaking as major as the creation of a Domain Specific programming Language (DSL). More specifically, the crux of the problem was our capacity to turn our promising prototypes intended for predictive supply chain optimization into production-grade solutions.  \n",
       "We were not alone in facing this problem. Back in 2012, while “data science” was not yet the buzzword it would become in the years that followed, we witnessed our most tech-driven clients - typically North American ecommerces - try hard and fail hard at bringing Python prototypes to production. Even when those solutions made it to production, maintenance was a nightmare. Since that time, newer and better machine learning algorithms have been uncovered but, for most supply chain situations, even back in 2012, machine learning was no longer the bottleneck. As Eliyahu M. Goldratt pointed out in his 1984 book entitled _The Goal_, improvements made anywhere besides the bottleneck are an illusion.  \n",
       "During 2014, as Lokad started its “dogfooding” process by using the first version of Envision for some of our internal projects, all geared toward flavors of supply chain optimization, it became clear that, Envision-powered initiatives were systemically outperforming the alternative initiatives carried out by generic programming languages, even with top-notch software developers.  \n",
       "We do not claim that Envision is better than Python/Java/C#/SQL/etc in the general case. Envision itself implemented using C#, F# and Typescript. We claim that the Lokad platform and Envision are superior for the _specific challenges_ faced by supply chain management. The platform eliminates entire classes of pitfalls that are simply unavoidable with general-purpose programming languages, while steering the development toward practices and technologies that are suited for the task at hand."
      ],
      "text/plain": [
       "<IPython.core.display.Markdown object>"
      ]
     },
     "metadata": {},
     "output_type": "display_data"
    },
    {
     "data": {
      "text/markdown": [
       "## A technical overview of Lokad  \n",
       "Let’s face it: the vast majority of the _Enterprise_ programming languages are barely good enough to qualify as “junk”. As we designed Envision, we decided to make it an awesome language only limited by its non-negotiable focus on supply chain optimization.  \n",
       "_This section is intended for professional software engineers who seek a high-level understanding of Envision, to see how it compares with alternative programming languages. If you just want to learn about Envision itself, you can skip this section._  \n",
       "**The language:**  \n",
       "* No arbitrary loops or branches (yes, it’s a feature)\n",
       "* Strongly typed, no late binding\n",
       "* Function calls are free of side-effects\n",
       "* Algebras tailored for predictive optimization\n",
       "* Differentiable Programming as a first-class citizen\n",
       "* Calendar constructs as first-class citizen  \n",
       "Envision heavily leans toward the concise syntax of Python. We did borrow a few good ideas from other languages like SQL and CSS as well. However, unlike Python, Envision’s syntax is heavily geared toward _correctness by design_. Triggering a data pipeline crunching 1TB of relational data to get a runtime error 20 mins later leads to bad productivity and poor reliability once in production. Thus, Envision attempts to capture as many problems as possible at compile-time. In particular, we adopt the peculiar perspective that programs that are too slow to reliably run in production should not compile in the first place.  \n",
       "**The runtime:**  \n",
       "* Native code compilation targeting a _fleet_ of machines\n",
       "* Concurrency by default through data parallelism\n",
       "* Cooperative versioned big data file storage\n",
       "* Fast re-executions through diff of the compute graphs\n",
       "* Lightning fast execution with specialized algorithms (SIMD)\n",
       "* Integrated layered memory management (RAM vs SSD vs remote storage)\n",
       "* Data, scripts and runs are co-versioned  \n",
       "Speed is a feature, and when gigabytes of relational data are involved, hardware computing costs are nontrivial. Assuming that the code isn’t run through some kind of wacky interpreter, most of the compute inefficiencies lie in the _boundaries_ between subsystems within the data pipeline: between the filesystem and the program, between one library (e.g. NumPy) and another (e.g. TensorFlow), between the front-end and the backend, etc. Lokad largely eliminates all those layers through a unified distributed runtime. Under the hood, it’s memory mapped files, TCP sockets and SIMD algorithm, tightly integrated under a compiler-driven architecture.  \n",
       "**The development environment:**  \n",
       "Lokad offers a web IDE (Integrated Development Environment) intended for Supply Chain Scientists, complete with:  \n",
       "* Code coloring and code-autocompletion\n",
       "* Smart compiler giving meaningful error messages\n",
       "* Complete versioning of past edits and runs\n",
       "* Contextual browsing of the input data\n",
       "* Visual edition of dashboards (à la CSS editing)\n",
       "* Propagate data comments cross-scripts  \n",
       "This environment is geared not only for high, individual productivity, but also for highly collaborative work with either fellow Supply Chain Scientists or supply chain practitioners - the ones who will consume the dashboards. The goal is to support fast paced prototyping, while giving a near immediate path toward production. Unlike visual tools, Lokad is actually suited for managing multiple pipelines, for example _testing_, _pre-production_ and _production_.  \n",
       "**Supporting tools**  \n",
       "* Fine-grained ACLs coupled with federated identity (SSO)\n",
       "* Built-in orchestration with concurrency control and HTTP hooks\n",
       "* Markdown edition and tabular previews for the file viewer\n",
       "* FTPS / SFTP bridge to the internal file storage\n",
       "* Built-in connectors for popular enterprise software (e.g. ERPs)\n",
       "* Spreadsheet (i.e. Excel) web editing, importing, exporting  \n",
       "We adopt the _Batteries Included_ philosophy, removing the need for external tools or libraries to power the data pipeline, the numerical recipes and the reporting. Naturally, this approach comes with a razor-sharp focus on supply chain management. The supporting tools are tightly integrated with the rest of the environment."
      ],
      "text/plain": [
       "<IPython.core.display.Markdown object>"
      ]
     },
     "metadata": {},
     "output_type": "display_data"
    },
    {
     "data": {
      "text/markdown": [
       "## From a hacker perspective  \n",
       "The Lokad platform is a closed-source proprietary stack. Compared to most of our enterprise software competitors, merely having a detailed technical documentation _in the open_ is already notable. Some would argue that enterprise software vendors have a fairly low bar for openness. True. Lokad isn’t open source, not even close, not yet anyway. Nevertheless, there is a profound and counter-intuitive technical reason for this approach, which has nothing to do with intellectual property.  \n",
       "When we started designing Envision, we knew that mistakes would be made in the design of this language. Indeed, nearly all popular programming languages are cluttered with undesirable legacy features inherited from their early versions (cf. JavaScript and Python). Unfortunately, once a compiler - the program that turns source code into machine code - is in the open, it becomes immensely difficult to upgrade the language itself, because the slightest changes end up breaking an unknown amount of code in the wild.  \n",
       "By deciding to keep the entire Envision codebase within the Lokad platform, we gained the ability to automatically rewrite existing scripts whenever the Envision syntax was changing. This process is known as _transpilation_, i.e. source to source compilation. Since Envision’s  inception, we have completed over a hundred automated source code rewrites. In fact, as we knew that rewrites would unfortunately be part of our later daily development life, we engineered Envision itself to make those rewrites as straightforward as possible. Whenever a new language feature is introduced, this feature is always assessed with the question: how difficult will it be to de-entangle ourselves from this feature when the time comes?  \n",
       "In a few circumstances, when automated code writes weren’t even possible, as it happens when a subtle ambiguity is discovered and replaced by multiple non-ambiguous variants, the Lokad teams did manually perform the upgrade, _within days_, of every occurrence of the problem within our entire Envision codebase, reverse engineering scripts whenever needed. Doing this would have been impossible with an open source approach.  \n",
       "Furthermore, while open source software is awesome - as a matter of fact, Lokad is itself almost entirely built on top of open source materials - its track record when it comes to transparent upgrades is _dysmal_, and we are not exaggerating. The Python 2.x to 3.x transition took a decade. The JavaScript community has been rewriting its entire codebases every 18 months for a decade as well. Then, libraries and frameworks are even worse in this regard, as they frequently require extensive rewrites at every version, even seemingly minor ones.  \n",
       "Nevertheless, we have plans to make Envision more open _in time_. We will probably start with the development environment itself, then proceed with a local non-distributed version of Envision that remains to be developed, as we have no immediate needs or demands for it. Also, we are committed to remain open about what goes on _under the hood_.  \n",
       "This process will take years. We do not want to paint ourselves in a corner. Supply chains aren’t lifestyle apps. Then again, fail fast and break things is not an option. Software engineers frequently wonder why enterprise software is so bad. While some vendors are just negligent, the usual root cause is the sheer difficulty of upgrading the steam engine while it’s running at full speed and production depends on it."
      ],
      "text/plain": [
       "<IPython.core.display.Markdown object>"
      ]
     },
     "metadata": {},
     "output_type": "display_data"
    }
   ],
   "source": [
    "from IPython.display import Markdown\n",
    "doc_ids = list(vectorstore.index_to_docstore_id.values())[:5]\n",
    "for doc_id in doc_ids:\n",
    "    document = vectorstore.docstore.search(doc_id)\n",
    "    display(Markdown(document.page_content))"
   ]
  },
  {
   "cell_type": "code",
   "execution_count": 8,
   "metadata": {},
   "outputs": [
    {
     "data": {
      "text/markdown": [
       "### Displaying documents 50, 51, 52"
      ],
      "text/plain": [
       "<IPython.core.display.Markdown object>"
      ]
     },
     "metadata": {},
     "output_type": "display_data"
    },
    {
     "data": {
      "text/markdown": [
       "keep span date = [date(2021, 1, 1) .. date(2021, 1, 28)]\n",
       "keep where Orders.date = Orders.OrderDate\n",
       "\n",
       "Day.Quantity = sum(Orders.Quantity)\n",
       "Day.MovingAverage = avg(Day.Quantity) over [-6 .. 0]"
      ],
      "text/plain": [
       "<IPython.core.display.Markdown object>"
      ]
     },
     "metadata": {},
     "output_type": "display_data"
    },
    {
     "data": {
      "text/markdown": [
       "\n",
       "\n",
       "show linechart \"Series\" a1d3 with\n",
       "  Day.Quantity\n",
       "  Day.MovingAverage { color: red }\n",
       "```  \n",
       "In the above script, `Day.MovingAverage` represents the average order quantity observed over the last 7 days (present day included). The start and end of the rolling window follow immediately the `over` keyword, i.e. `-6` and `0` respectively. Finally, the two series are plotted via a `linechart` tile.  \n",
       "The rolling window expects integers, and the semantics of these integer arguments is aligned with the semantic of the lag operation, as introduced in the previous section.  \n",
       "The logic can be modified to perform a 7-day average _excluding_ the last day with:  \n",
       "```envision\n",
       "table Orders = with\n",
       "  [| as OrderDate,      as Quantity |]\n",
       "  [| date(2021, 1, 2),  1           |]\n",
       "  [| date(2021, 1, 4),  1           |]\n",
       "  [| date(2021, 1, 12), 1           |]\n",
       "  [| date(2021, 1, 21), 1           |]"
      ],
      "text/plain": [
       "<IPython.core.display.Markdown object>"
      ]
     },
     "metadata": {},
     "output_type": "display_data"
    },
    {
     "data": {
      "text/markdown": [
       "keep span date = [date(2021, 1, 1) .. date(2021, 1, 28)]\n",
       "keep where Orders.date = Orders.OrderDate\n",
       "\n",
       "Day.Quantity = sum(Orders.Quantity)\n",
       "Day.MovingAverage = avg(Day.Quantity) over [-7 .. -1]"
      ],
      "text/plain": [
       "<IPython.core.display.Markdown object>"
      ]
     },
     "metadata": {},
     "output_type": "display_data"
    }
   ],
   "source": [
    "doc_ids = list(vectorstore.index_to_docstore_id.values())[50:53]\n",
    "\n",
    "display(Markdown('### Displaying documents 50, 51, 52'))\n",
    "\n",
    "for doc_id in doc_ids:\n",
    "    document = vectorstore.docstore.search(doc_id)\n",
    "    \n",
    "    display(Markdown(document.page_content))"
   ]
  },
  {
   "cell_type": "markdown",
   "metadata": {},
   "source": [
    "## Similarity search"
   ]
  },
  {
   "cell_type": "code",
   "execution_count": 9,
   "metadata": {},
   "outputs": [],
   "source": [
    "vectorstore = get_vectorstore()"
   ]
  },
  {
   "cell_type": "code",
   "execution_count": 10,
   "metadata": {},
   "outputs": [
    {
     "data": {
      "text/plain": [
       "Document(id='68623016-5cc2-43de-88e9-296ef3fd15c5', metadata={'Header 2': \"Rolling time window with keyword 'over'; moving average\", 'source': 'D:/Projects/PSC/LLM-DSL-Gen/docs\\\\calendar.md'}, page_content='keep span date = [date(2021, 1, 1) .. date(2021, 1, 28)]\\nkeep where Orders.date = Orders.OrderDate\\n\\nDay.Quantity = sum(Orders.Quantity)\\nDay.MovingAverage = avg(Day.Quantity) over [-7 .. -1]')"
      ]
     },
     "execution_count": 10,
     "metadata": {},
     "output_type": "execute_result"
    }
   ],
   "source": [
    "query=\"Define a text literal called greetings with value \\\"Hello\\\" and display greetings on the dashboard as a label.\"\n",
    "documents = vectorstore.similarity_search(k = 3, query=query)\n",
    "document"
   ]
  },
  {
   "cell_type": "code",
   "execution_count": 11,
   "metadata": {},
   "outputs": [
    {
     "data": {
      "text/markdown": [
       "### Document 0 \n",
       " ## Hello World program  \n",
       "Every script must display at least _one_ dashboard _tile_. The following script illustrates how to generate a dashboard that contains a single tile displaying _Hello World!_.  \n",
       "```envision\n",
       "greeting = \"Hello World!\"\n",
       "show label greeting\n",
       "```  \n",
       "All the statements that start with the keyword `show` indicate that a _tile_ will be displayed. Tiles are the display mechanism provided by Envision. All the tiles present in a script are consolidated in a _dashboard_.  \n",
       "The value `\"Hello World!\"` is called a **text literal**, a value that appears verbatim in the code. The operator `=` is the **assignment operator**."
      ],
      "text/plain": [
       "<IPython.core.display.Markdown object>"
      ]
     },
     "metadata": {},
     "output_type": "display_data"
    },
    {
     "data": {
      "text/markdown": [
       "### Document 1 \n",
       " ## Your first script  \n",
       "Every script must display at least _one_ dashboard _tile_. The following script illustrates how to generate a dashboard that contains a single tile displaying _Hello World!_.  \n",
       "```envision\n",
       "greeting = \"Hello World!\"\n",
       "show label greeting\n",
       "```  \n",
       "All the statements that start with the keyword `show` indicate that a _tile_ will be displayed. Tiles are the display mechanism provided by Envision. All the tiles present in a script are consolidated in a _dashboard_.  \n",
       "Attention that if we use \"show label\", the format should be\n",
       "```envision\n",
       "show label labelContent\n",
       "```\n",
       "without writing \"with\" and the label does not have a title. this is different from show table :\n",
       "```envision\n",
       "show table \"ChartName\" with tableContent\n",
       "```  \n",
       "The value `\"Hello World!\"` is called a **text literal**, a value that appears verbatim in the code. The operator `=` is the **assignment operator**."
      ],
      "text/plain": [
       "<IPython.core.display.Markdown object>"
      ]
     },
     "metadata": {},
     "output_type": "display_data"
    },
    {
     "data": {
      "text/markdown": [
       "### Document 2 \n",
       " +++\n",
       "title = \"Dashboards\"\n",
       "description = \"\"\n",
       "weight = 11\n",
       "alwaysopen = false\n",
       "+++  \n",
       "Rewrite pending.  \n",
       "* See also [(Legacy) Designing dashboards](/legacy/envision-user-guide/designing-dashboards/)\n",
       "* See also [(Legacy) Styling dashboards](/legacy/envision-user-guide/styling-dashboards/)\n",
       "* See also [(Legacy) Beautifying dashboards](/legacy/envision-user-guide/beautifying-dashboards/)"
      ],
      "text/plain": [
       "<IPython.core.display.Markdown object>"
      ]
     },
     "metadata": {},
     "output_type": "display_data"
    },
    {
     "data": {
      "text/markdown": [
       "---"
      ],
      "text/plain": [
       "<IPython.core.display.Markdown object>"
      ]
     },
     "metadata": {},
     "output_type": "display_data"
    }
   ],
   "source": [
    "for idx, doc in enumerate(documents):\n",
    "    display(Markdown(f\"### Document {idx} \\n {doc.page_content}\"))\n",
    "display(Markdown('---'))"
   ]
  },
  {
   "cell_type": "markdown",
   "metadata": {},
   "source": [
    "## Try queries with a few questions"
   ]
  },
  {
   "cell_type": "code",
   "execution_count": 12,
   "metadata": {},
   "outputs": [
    {
     "name": "stdout",
     "output_type": "stream",
     "text": [
      "Create a table named `T` that contains 3 lines. There must be column named `X` that contains the values `a`, `b` and `c`. Put this table on display.\n"
     ]
    }
   ],
   "source": [
    "from dsl_gen.core.vector_store import get_vectorstore\n",
    "from dsl_gen.config import CFG\n",
    "from pathlib import Path\n",
    "import json\n",
    "\n",
    "vectorstore = get_vectorstore()\n",
    "\n",
    "file_path = Path(CFG.PATH_CFG.CHALLENGES_PATH) / \"c001.json\"\n",
    "\n",
    "with open(file_path, 'r') as f:\n",
    "    data = json.load(f)\n",
    "\n",
    "question = data['question']\n",
    "\n",
    "print(question)"
   ]
  },
  {
   "cell_type": "code",
   "execution_count": 13,
   "metadata": {},
   "outputs": [
    {
     "data": {
      "text/plain": [
       "Document(id='68623016-5cc2-43de-88e9-296ef3fd15c5', metadata={'Header 2': \"Rolling time window with keyword 'over'; moving average\", 'source': 'D:/Projects/PSC/LLM-DSL-Gen/docs\\\\calendar.md'}, page_content='keep span date = [date(2021, 1, 1) .. date(2021, 1, 28)]\\nkeep where Orders.date = Orders.OrderDate\\n\\nDay.Quantity = sum(Orders.Quantity)\\nDay.MovingAverage = avg(Day.Quantity) over [-7 .. -1]')"
      ]
     },
     "execution_count": 13,
     "metadata": {},
     "output_type": "execute_result"
    }
   ],
   "source": [
    "documents = vectorstore.similarity_search(k = 20, query=question)\n",
    "document"
   ]
  },
  {
   "cell_type": "code",
   "execution_count": 15,
   "metadata": {},
   "outputs": [
    {
     "name": "stdout",
     "output_type": "stream",
     "text": [
      "Document 0\n",
      "show table \"T\" a1b5 with T.N, T.X\n",
      "```\n",
      "\n",
      "\n",
      "Document 1\n",
      "\n",
      "\n",
      "show table \"Colors\" a1a3 with color\n",
      "```  \n",
      "A secondary dimension is a vector that only contains values originating from a known primary dimension. The secondary dimension is found in a table that differs from the table originally associated with the primary dimension. Let’s refer to those two tables as the primary table and secondary table. The concept of secondary dimension comes with one central property: when a secondary dimension is present, every line of the secondary table has exactly one corresponding line in the primary table.  \n",
      "The simplest way to add a secondary dimension consists of directly leveraging a (primary) dimension to construct one of its vectors:  \n",
      "```envision\n",
      "table Colors[color] = with\n",
      "  [| as color |]\n",
      "  [| \"red\"    |]\n",
      "  [| \"blue\"   |]\n",
      "  [| \"green\"  |]\n",
      "\n",
      "\n",
      "Document 2\n",
      "table RS = cross(R, S)\n",
      "RS.A = R.N\n",
      "RS.B = S.N\n",
      "\n",
      "R.C = sum(RS.A + RS.B)\n",
      "S.D = sum(RS.A + RS.B)\n",
      "\n",
      "\n",
      "Document 3\n",
      "show label \"\\{x}\"\n",
      "```  \n",
      "While this is not required, it is advised to introduce the proper level of indentation to make the code more readable, that is:  \n",
      "```envision\n",
      "x = 2 +\n",
      "     40\n",
      "\n",
      "show label \"\\{x}\"\n",
      "```  \n",
      "Also, this process can be repeated over multiple physical lines:  \n",
      "```envision\n",
      "x =  2 +\n",
      "     20 +\n",
      "     10 +\n",
      "     10\n",
      "\n",
      "\n",
      "Document 4\n",
      "show table \"RSf\" a1b4 with R.N, S.N, RSf.N // only 3 lines\n",
      "```  \n",
      "In the above script, the table `RSf` is defined as a filtered version of the cross table `RS`. This table inherits the primary dimensions of `RS` but those dimensions as inherited as secondary dimensions. As both `R` and `S` can broadcast into `RSf`, the table `RSf` is identified as the common table for the table tile.\n",
      "\n",
      "\n",
      "Document 5\n",
      "where R.N == 1\n",
      "  table RS = cross(R, S)\n",
      "  RS.A = R.N\n",
      "  RS.B = S.N\n",
      "  show table \"cross\" a1b5 with RS.A, RS.B\n",
      "\n",
      "\n",
      "Document 6\n",
      "\n",
      "\n",
      "show table \"My Translation\" with Colors.Explain\n",
      "```  \n",
      "The script above outputs a table that contains the 3 lines with the following content:  \n",
      "| Explain          |\n",
      "|------------------|\n",
      "| Rouge means Red  |\n",
      "| Bleu means Blue  |\n",
      "| Vert means Green |  \n",
      "The text format operation used to compute `Colors.Explain` has been done for all the lines of the `Colors` table at once.  \n",
      "Numeric operations can be performed in a similar way :  \n",
      "```envision\n",
      "table Orders = with\n",
      "  [| as Quantity, as UnitPrice |]\n",
      "  [| 3, 12.00 |]\n",
      "  [| 7, 20.50 |]\n",
      "  [| 2, 25.00 |]\n",
      "\n",
      "\n",
      "Document 7\n",
      "show table \"Colors\" a1a3 with Colors.Color\n",
      "```  \n",
      "In the above script, the primary dimension of the table `Colors` exists but remains implicit. This dimension can be named:  \n",
      "```envision\n",
      "table Colors[c] = with\n",
      "  [| as Color |]\n",
      "  [| \"red\"    |]\n",
      "  [| \"blue\"   |]\n",
      "  [| \"green\"  |]\n",
      "\n",
      "\n",
      "Document 8\n",
      "\n",
      "\n",
      "show table \"Colors\" with\n",
      "  product\n",
      "  Products.Colors\n",
      "```  \n",
      "Which displays the following table:  \n",
      "| product | Colors         |\n",
      "|---------|----------------|\n",
      "| pants   | blue           |\n",
      "| shirt   | pink, white    |\n",
      "| socks   | green - yellow |  \n",
      "The above script leverages the `join()` aggregator to define `Products.Color`. The function takes a first (regular) argument `Variants.Color` but also a second group argument `Products.Limit`. Beware, the delimiter `;` is used to introduce the group arguments. Thus, the character `;` is used - instead of the usual comma `,` - to delimit the two arguments of `join()`. Prior to this, the aggregator `same()` is used to define `Products.Limit`. This aggregator returns the value that is expected to be identical across all the grouped lines.  \n",
      "The general function call syntax is `myFun(a1, a2, a3; g1, g2, g3)` where both regular arguments `aX` and group arguments `bX` are comma-delimited, and where the semi-colon `;` is used to separate the two lists. This syntax will be revised more extensively when discussing the user defined functions in the following.\n",
      "\n",
      "\n",
      "Document 9\n",
      "// Filtered tables: `T`\n",
      "where T.N >= 4 // Filtered tables: `T`\n",
      "  // entering the `where` block, +2 indent\n",
      "  T.X = \"B\"\n",
      "  T.Y = \"C\" // `T.Y` belong to the scope of the `where` block\n",
      "// exiting the `where` block, -2 indent\n",
      "\n",
      "// The `show` has no indent\n",
      "show table \"T\" a1b2 with\n",
      "  T.X // good\n",
      "  T.Y // WRONG, fails with `Undefined variable T.Y`\n",
      "```  \n",
      "It can be fixed with:  \n",
      "```envision\n",
      "// Create a table with 5 lines\n",
      "table T = extend.range(5) // special, auto create `T.N : number`\n",
      "\n",
      "\n",
      "Document 10\n",
      "table S[s] = with\n",
      "  [| as s |]\n",
      "  [| 1    |]\n",
      "  [| 2    |]\n",
      "  [| 3    |]\n",
      "\n",
      "table RS = cross(R, S)\n",
      "RS.N = r + s\n",
      "\n",
      "R.N = RS.N[s: 3]\n",
      "S.N = RS.N[r: 2]\n",
      "\n",
      "\n",
      "Document 11\n",
      "\n",
      "\n",
      "show table \"cross\" a1b5 with RS.A, RS.B\n",
      "```  \n",
      "In the above script, the two assignments of `RS.A` and `RS.B`, respectively originating from `R` and `S` work because the table `RS` has `R` and `S` as two upstream tables. The table tile displays the 6=2x3 lines, which result from the Cartesian product between `R` and `S`.  \n",
      "The right source table within a cross should be a [small table](../table-sizes/). This constraint ensures that large cross tables can be processed efficiently when performing complex operations, such as the ones allowed by the `each` keyword.  \n",
      "A cross table has exactly two primary dimensions. Thus, the two source tables must be distinct and have one primary dimension each. The scalar table and cross tables cannot be used as source tables.  \n",
      "Every operation that expects two or more vectors to be in the same table attempts at finding a common table between those vectors. A cross table, once declared, becomes a candidate for being this common table.  \n",
      "For example, a map operation performed between two independent tables operates over the cross table associated to this pair of tables:  \n",
      "```envision\n",
      "table R = extend.range(2)\n",
      "table S = extend.range(3)\n",
      "\n",
      "\n",
      "Document 12\n",
      "T.S = for N in T.N\n",
      "  return N * sum(T.N) when (N < T.N)\n",
      "\n",
      "show table \"\" a1b5 with T.N, T.S\n",
      "```  \n",
      "_Advanced remark:_ This \"simple\" each is similar to the `for` loop in Python and the `foreach` loop in C#.\n",
      "\n",
      "\n",
      "Document 13\n",
      "table S[s] = with\n",
      "  [| as s |]\n",
      "  [| 1    |]\n",
      "  [| 2    |]\n",
      "  [| 3    |]\n",
      "\n",
      "table RS = cross(R, S)\n",
      "RS.N = r + s\n",
      "\n",
      "R.N = RS.N[s: 3 into R]\n",
      "S.N = RS.N[r: 2 into S]\n",
      "\n",
      "\n",
      "Document 14\n",
      "\n",
      "\n",
      "show table \"\" a1c2 with\n",
      "  Products.Label\n",
      "  Products.PurchaseQty\n",
      "  Products.UnitPrice\n",
      "  Products.Amount\n",
      "```  \n",
      "However the `each` block is more readable and more performant than a `cross` aggregation, especially once the logic grows so complex that several `cross` aggregations are required to represent it. It is therefore recommended to use `each` instead of `cross` (this does not apply to `cross .. by .. at`).  \n",
      "If the observation table happens to be the left component of a cross-table, then vectors from that cross-table can also be loaded into the `each` block:  \n",
      "```envision\n",
      "table Products = with\n",
      "  [| as Label, as UnitPrice |]\n",
      "  [| \"Hat\",    15.00        |]\n",
      "  [| \"Shirt\",  55.00        |]\n",
      "\n",
      "\n",
      "Document 15\n",
      "show table \"Products\" write:\"/sample/products.csv\" with\n",
      "  Products.Product\n",
      "  Products.PriceYearN as \"Price (Y)\"\n",
      "  Products.PriceYearN1 as \"Price (Y-1)\"\n",
      "  Products.PriceYearN2 as \"Price (Y-2)\"\n",
      "```  \n",
      "In order to read all three columns as a single column, the `read()` binding can be used with several columns:  \n",
      "```envision\n",
      "read \"/sample/products.csv\" as Products with\n",
      "  Product : text\n",
      "  Price : number = read(\"Price (Y)\", \"Price (Y-1)\", \"Price (Y-2)\")\n",
      "\n",
      "\n",
      "Document 16\n",
      "show table \"Products\" write:\"/sample/products.csv\" with\n",
      "  Products.Product\n",
      "  Products.PriceYearN as \"Price (Y)\"\n",
      "  Products.PriceYearN1 as \"Price (Y-1)\"\n",
      "  Products.PriceYearN2 as \"Price (Y-2)\"\n",
      "```  \n",
      "In order to read all three columns as a single column, the `read()` binding can be used with several columns:  \n",
      "```envision\n",
      "read \"/sample/products.csv\" as Products with\n",
      "  Product : text\n",
      "  Price : number = read(\"Price (Y)\", \"Price (Y-1)\", \"Price (Y-2)\")\n",
      "\n",
      "\n",
      "Document 17\n",
      "## Syntax overview  \n",
      "The keyword `cross` is used to declare a cross table as illustrated by:  \n",
      "```envision\n",
      "table R = extend.range(2)\n",
      "table S = extend.range(3)\n",
      "\n",
      "table RS = cross(R, S)\n",
      "RS.A = R.N\n",
      "RS.B = S.N\n",
      "\n",
      "\n",
      "Document 18\n",
      "\n",
      "\n",
      "show table \"cross\" a1b5 with RS2.A, RS2.B\n",
      "```  \n",
      "In the above script, the value `S1.N` is first broadcast into the table `S2` via the expression `S1.N into S2` and then, the resulting expression is itself broadcast into `RS2` via the assignment `RS2.B = ..`.  \n",
      "In order to remove the need for expliciting the intermediate broadcast table, i.e. `S2` in the above script, a dimension can be imported into the cross table itself:  \n",
      "```envision\n",
      "table R = extend.range(2)\n",
      "table S1[s1] = extend.range(3)\n",
      "table S2 small 100 = extend.range(S1.N)\n",
      "\n",
      "\n",
      "Document 19\n",
      "show table \"Countries\" a1b3 with country\n",
      "```  \n",
      "It is also possible to use an enum as the primary dimension of the table being read:  \n",
      "```envision\n",
      "read \"/sample/countries.csv\" as C[name] with\n",
      "  Code : text\n",
      "  Name : table enum\n",
      "\n",
      "\n"
     ]
    }
   ],
   "source": [
    "for idx, doc in enumerate(documents):\n",
    "    print(f\"Document {idx}\")\n",
    "    print(doc.page_content)\n",
    "    print('\\n')"
   ]
  },
  {
   "cell_type": "markdown",
   "metadata": {},
   "source": [
    "# Test RAG flow"
   ]
  },
  {
   "cell_type": "markdown",
   "metadata": {},
   "source": [
    "## Visualize workflow"
   ]
  },
  {
   "cell_type": "code",
   "execution_count": 16,
   "metadata": {},
   "outputs": [
    {
     "data": {
      "image/png": "[encoded data removed]",
      "text/plain": [
       "<IPython.core.display.Image object>"
      ]
     },
     "metadata": {},
     "output_type": "display_data"
    }
   ],
   "source": [
    "from IPython.display import Image, display\n",
    "from langchain_core.runnables.graph import CurveStyle, MermaidDrawMethod, NodeStyles\n",
    "\n",
    "from dsl_gen.core.flows import build_rag_flow\n",
    "\n",
    "flow = build_rag_flow()\n",
    "display(\n",
    "    Image(\n",
    "        flow.get_graph().draw_mermaid_png(\n",
    "            draw_method=MermaidDrawMethod.API,\n",
    "        )\n",
    "    )\n",
    ")"
   ]
  },
  {
   "cell_type": "code",
   "execution_count": 15,
   "metadata": {},
   "outputs": [
    {
     "name": "stdout",
     "output_type": "stream",
     "text": [
      "%%{init: {'flowchart': {'curve': 'linear'}}}%%\n",
      "graph TD;\n",
      "\t__start__([<p>__start__</p>]):::first\n",
      "\tQA_splitter(QA_splitter)\n",
      "\tretriever(retriever)\n",
      "\tprompt_generator(prompt_generator)\n",
      "\tllm_coder(llm_coder)\n",
      "\tcompletion_peeler(completion_peeler)\n",
      "\tcompiler(compiler)\n",
      "\tjudge(judge)\n",
      "\t__end__([<p>__end__</p>]):::last\n",
      "\tQA_splitter --> retriever;\n",
      "\t__start__ --> QA_splitter;\n",
      "\tcompletion_peeler --> compiler;\n",
      "\tllm_coder --> completion_peeler;\n",
      "\tprompt_generator --> llm_coder;\n",
      "\tretriever --> prompt_generator;\n",
      "\tcompiler -.-> llm_coder;\n",
      "\tcompiler -.-> judge;\n",
      "\tcompiler -.-> __end__;\n",
      "\tjudge -.-> prompt_generator;\n",
      "\tjudge -.-> __end__;\n",
      "\tclassDef default fill:#f2f0ff,line-height:1.2\n",
      "\tclassDef first fill-opacity:0\n",
      "\tclassDef last fill:#bfb6fc\n",
      "\n"
     ]
    }
   ],
   "source": [
    "print(flow.get_graph().draw_mermaid())"
   ]
  },
  {
   "cell_type": "markdown",
   "metadata": {},
   "source": [
    "---\n",
    "\n",
    "## Invoke workflow"
   ]
  },
  {
   "cell_type": "code",
   "execution_count": 17,
   "metadata": {},
   "outputs": [
    {
     "name": "stderr",
     "output_type": "stream",
     "text": [
      "2025-02-04 01:08:35,859 - dsl_gen - INFO - Retrieved 20 docs for query: Create a table named\n",
      "2025-02-04 01:08:36,207 - dsl_gen - INFO - Model loaded: gpt-3.5-turbo, base_url: https://api.openai.com/v1\n",
      "2025-02-04 01:08:37,404 - httpx - INFO - HTTP Request: POST https://api.openai.com/v1/chat/completions \"HTTP/1.1 200 OK\"\n"
     ]
    },
    {
     "data": {
      "text/markdown": [
       "# Question"
      ],
      "text/plain": [
       "<IPython.core.display.Markdown object>"
      ]
     },
     "metadata": {},
     "output_type": "display_data"
    },
    {
     "data": {
      "text/markdown": [
       "Create a table named `T` that contains 3 lines. There must be column named `X` that contains the values `a`, `b` and `c`. Put this table on display."
      ],
      "text/plain": [
       "<IPython.core.display.Markdown object>"
      ]
     },
     "metadata": {},
     "output_type": "display_data"
    },
    {
     "data": {
      "text/markdown": [
       "# Coder's Completion"
      ],
      "text/plain": [
       "<IPython.core.display.Markdown object>"
      ]
     },
     "metadata": {},
     "output_type": "display_data"
    },
    {
     "data": {
      "text/markdown": [
       "```envision\n",
       "table T = with\n",
       "  [| as X |]\n",
       "  [| \"a\"  |]\n",
       "  [| \"b\"  |]\n",
       "  [| \"c\"  |]\n",
       "\n",
       "show table \"T\" a1a3 with T.X\n",
       "```  "
      ],
      "text/plain": [
       "<IPython.core.display.Markdown object>"
      ]
     },
     "metadata": {},
     "output_type": "display_data"
    },
    {
     "name": "stderr",
     "output_type": "stream",
     "text": [
      "2025-02-04 01:08:37,733 - dsl_gen - INFO - Code compiled successfully (Attempt 1)\n",
      "2025-02-04 01:08:38,860 - httpx - INFO - HTTP Request: POST https://api.openai.com/v1/chat/completions \"HTTP/1.1 200 OK\"\n",
      "2025-02-04 01:08:38,867 - dsl_gen - INFO - Judgment: Step 1: Check if the table `T` is created with the correct structure:\n",
      "- The table `T` is correctly created with a column named `X` and values `a`, `b`, and `c`.\n",
      "\n",
      "Step 2: Check if the table `T` is displayed properly:\n",
      "- The `show table` command displays the table `T` with column `X` as expected.\n",
      "\n",
      "Considering the above steps, the solution provided is correct and compliant with the requirements.\n",
      "\n",
      "### Final Judgment: 1 (Correct)\n",
      "2025-02-04 01:08:38,868 - dsl_gen - INFO - Judgment: correct\n",
      "2025-02-04 01:08:38,869 - dsl_gen - INFO - Answer passed quality check\n"
     ]
    },
    {
     "name": "stdout",
     "output_type": "stream",
     "text": [
      "table T = with\n",
      "  [| as X |]\n",
      "  [| \"a\"  |]\n",
      "  [| \"b\"  |]\n",
      "  [| \"c\"  |]\n",
      "\n",
      "show table \"T\" a1a3 with T.X\n"
     ]
    }
   ],
   "source": [
    "from dsl_gen import CFG\n",
    "from pathlib import Path\n",
    "from dsl_gen.core.flows import build_rag_flow\n",
    "import logging\n",
    "from IPython.display import Image, display\n",
    "from langchain_core.runnables.graph import CurveStyle, MermaidDrawMethod, NodeStyles\n",
    "\n",
    "logging.basicConfig(level=logging.INFO, format='%(asctime)s - %(name)s - %(levelname)s - %(message)s')\n",
    "# Reset the active model to openai to boost inference speed\n",
    "CFG.MODEL_CFG.active_model = \"openai\"\n",
    "\n",
    "challenge_path = Path(CFG.PATH_CFG.CHALLENGES_PATH) / \"c001.json\" \n",
    "\n",
    "flow = build_rag_flow()\n",
    "\n",
    "# It is normal that you see 'INFO - Failed to load GPU Faiss'\n",
    "# since we are using CPU\n",
    "result = flow.invoke({\"challenge_path\": str(challenge_path)}) \n",
    "\n",
    "print(result[\"completion\"]) "
   ]
  },
  {
   "cell_type": "markdown",
   "metadata": {},
   "source": [
    "---"
   ]
  },
  {
   "cell_type": "markdown",
   "metadata": {},
   "source": [
    "# Appendix: VectorStore\n",
    "\n",
    "Below is a detailed explanation of VectorStore content display and similarity search filters:\n",
    "\n",
    "---\n",
    "\n",
    "## How to View Chunk Content in VectorStore\n",
    "\n",
    "### Method 1: Directly Accessing the Underlying Storage (Using FAISS as an Example)\n",
    "\n",
    "```python\n",
    "# Assuming an initialized vectorstore object\n",
    "\n",
    "from langchain_community.vectorstores import FAISS\n",
    "\n",
    "def show_all_chunks(vectorstore: FAISS) -> list:\n",
    "    \"\"\"Displays all stored chunks and their metadata\"\"\"\n",
    "    chunks = []\n",
    "    # Iterate through all document IDs\n",
    "    for doc_id in vectorstore.index_to_docstore_id.values():\n",
    "        document = vectorstore.docstore.search(doc_id)\n",
    "        chunks.append({\n",
    "            \"id\": doc_id,\n",
    "            \"content\": document.page_content,\n",
    "            \"metadata\": document.metadata\n",
    "        })\n",
    "    return chunks\n",
    "\n",
    "# Example usage\n",
    "for chunk in show_all_chunks(vectorstore):\n",
    "    print(f\"[ID: {chunk['id']}]\")\n",
    "    print(f\"Metadata: {chunk['metadata']}\")\n",
    "    print(f\"Content: {chunk['content'][:50]}...\\n\")\n",
    "\n",
    "# Sample Output:\n",
    "# [ID: 89a3b2f1]\n",
    "# Metadata: {'source': 'manual.pdf', 'page': 23}\n",
    "# Content: Envision language supports time series analysis using window functions...\n",
    "```\n",
    "\n",
    "### Method 2: Retrieve All Chunks via Search (Temporary Approach)\n",
    "```python\n",
    "# Retrieve all documents by searching an empty string (Use with caution)\n",
    "all_docs = vectorstore.similarity_search(query=\"\", k=1000)  # Set k to a sufficiently large number\n",
    "for i, doc in enumerate(all_docs):\n",
    "    print(f\"Chunk {i+1}: {doc.page_content[:80]}...\")\n",
    "```\n",
    "\n",
    "---\n",
    "\n",
    "## **Understanding the `similarity_search` Filter Parameter**\n",
    "\n",
    "### Purpose\n",
    "- **Metadata Filtering**: Restrict searches to documents that meet specific criteria.\n",
    "- **Performance Optimization**: Reduce the number of candidate documents that need to be compared.\n",
    "- **Business Adaptability**: Dynamically adjust the search scope based on use cases.\n",
    "\n",
    "### Filtering Syntax Examples\n",
    "```python\n",
    "# Basic filtering (Equality)\n",
    "vectorstore.similarity_search(\n",
    "    \"Time Series Forecasting\",\n",
    "    filter={\"source\": \"finance_docs\"},  # Search only financial documents\n",
    "    k=3\n",
    ")\n",
    "\n",
    "# Comparison Operators\n",
    "vectorstore.similarity_search(\n",
    "    \"Data Cleaning\",\n",
    "    filter={\n",
    "        \"page\": {\"$gte\": 50},          # Page number >= 50\n",
    "        \"version\": {\"$ne\": \"draft\"}    # Exclude draft versions\n",
    "    }\n",
    ")\n",
    "\n",
    "# Multiple Conditions\n",
    "vectorstore.similarity_search(\n",
    "    \"Machine Learning\",\n",
    "    filter={\n",
    "        \"$and\": [\n",
    "            {\"category\": \"AI\"},\n",
    "            {\"security_level\": {\"$lte\": 2}}\n",
    "        ]\n",
    "    }\n",
    ")\n",
    "\n",
    "# Array Containment\n",
    "vectorstore.similarity_search(\n",
    "    \"Distributed Computing\", \n",
    "    filter={\n",
    "        \"tags\": {\"$in\": [\"spark\", \"hadoop\"]}  # Includes any specified tags\n",
    "    }\n",
    ")\n",
    "```\n",
    "\n",
    "### Supported Operators\n",
    "| Operator | Description             | Example                          |\n",
    "|----------|-------------------------|----------------------------------|\n",
    "| `$eq`    | Equals (default)         | `{\"author\": \"John\"}`            |\n",
    "| `$ne`    | Not equals               | `{\"status\": {\"$ne\": \"draft\"}}`  |\n",
    "| `$gt`    | Greater than             | `{\"views\": {\"$gt\": 1000}}`      |\n",
    "| `$gte`   | Greater than or equal to | `{\"year\": {\"$gte\": 2020}}`      |\n",
    "| `$lt`    | Less than                | `{\"priority\": {\"$lt\": 5}}`      |\n",
    "| `$lte`   | Less than or equal to    | `{\"rating\": {\"$lte\": 4.5}}`     |\n",
    "| `$in`    | Contained in array       | `{\"tags\": {\"$in\": [\"AI\"]}}`     |\n",
    "| `$nin`   | Not contained in array   | `{\"lang\": {\"$nin\": [\"zh\"]}}`    |\n",
    "| `$and`   | Logical AND              | See combined example above      |\n",
    "| `$or`    | Logical OR               | `{\"$or\": [cond1, cond2]}`       |\n",
    "\n",
    "---\n",
    "\n",
    "## **Best Practices and Practical Advice**\n",
    "\n",
    "### 1. **Metadata Design Tips**\n",
    "- Inject structured metadata when splitting documents.\n",
    "```python\n",
    "from langchain.docstore.document import Document\n",
    "\n",
    "Document(\n",
    "    page_content=chunk_text,\n",
    "    metadata={\n",
    "        \"source\": \"user_manual_v3.pdf\",\n",
    "        \"section\": \"API Reference\",\n",
    "        \"last_updated\": \"2024-03-15\"\n",
    "    }\n",
    ")\n",
    "```\n",
    "\n",
    "### 2. **Efficient Filtering Strategies**\n",
    "```python\n",
    "# Predefined common filters\n",
    "FILTERS = {\n",
    "    \"technical_docs\": {\"doc_type\": \"technical\"},\n",
    "    \"recent_updates\": {\"last_updated\": {\"$gte\": \"2024-01-01\"}},\n",
    "    \"high_priority\": {\"priority\": {\"$gte\": 8}}\n",
    "}\n",
    "\n",
    "# Dynamically build filters\n",
    "def build_filter(include_filters: list[str]):\n",
    "    return {\"$and\": [FILTERS[f] for f in include_filters]}\n",
    "```\n",
    "\n",
    "### 3. **Debugging and Metadata Analysis**\n",
    "```python\n",
    "# Display metadata field distributions\n",
    "from collections import defaultdict\n",
    "\n",
    "def analyze_metadata(vectorstore):\n",
    "    field_stats = defaultdict(set)\n",
    "    for doc_id in vectorstore.index_to_docstore_id.values():\n",
    "        doc = vectorstore.docstore.search(doc_id)\n",
    "        for k, v in doc.metadata.items():\n",
    "            field_stats[k].add(str(v))  # Convert to string to avoid type issues\n",
    "  \n",
    "    for field, values in field_stats.items():\n",
    "        print(f\"Field '{field}':\")\n",
    "        print(f\"  Unique values ({len(values)}): {', '.join(list(values)[:3])}...\")\n",
    "\n",
    "# Sample Output:\n",
    "# Field 'source': \n",
    "#   Unique values (4): manual_v2.pdf, blog_post.md, api_spec.json...\n",
    "```\n",
    "\n",
    "By effectively utilizing metadata filtering and content inspection methods, you can significantly enhance the **controllability** and **interpretability** of a Retrieval-Augmented Generation (RAG) system."
   ]
  }
 ],
 "metadata": {
  "kernelspec": {
   "display_name": "mvd-3d",
   "language": "python",
   "name": "python3"
  },
  "language_info": {
   "codemirror_mode": {
    "name": "ipython",
    "version": 3
   },
   "file_extension": ".py",
   "mimetype": "text/x-python",
   "name": "python",
   "nbconvert_exporter": "python",
   "pygments_lexer": "ipython3",
   "version": "3.10.11"
  }
 },
 "nbformat": 4,
 "nbformat_minor": 2
}
