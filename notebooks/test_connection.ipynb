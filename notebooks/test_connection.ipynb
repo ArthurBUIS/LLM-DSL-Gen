{
 "cells": [
  {
   "cell_type": "markdown",
   "metadata": {},
   "source": [
    "## Test connection"
   ]
  },
  {
   "cell_type": "markdown",
   "metadata": {},
   "source": [
    "This notebook is used to post data to the API and check the response."
   ]
  },
  {
   "cell_type": "markdown",
   "metadata": {},
   "source": [
    "### Send a vanilla request"
   ]
  },
  {
   "cell_type": "code",
   "execution_count": null,
   "metadata": {},
   "outputs": [],
   "source": [
    "from api_keys import deepseek_api_key\n",
    "import requests\n",
    "url = \"https://api.siliconflow.com/v1/chat/completions\"\n",
    "\n",
    "payload = {\n",
    "    \"model\": \"deepseek-ai/DeepSeek-V3\",\n",
    "    \"messages\": [\n",
    "        {\n",
    "            \"role\": \"user\",\n",
    "            \"content\": \"法国大模型行业2025年将会迎来哪些机遇和挑战？\"\n",
    "        }\n",
    "    ],\n",
    "    \"stream\": False,\n",
    "    \"max_tokens\": 512,\n",
    "    \"stop\": [\"null\"],\n",
    "    \"temperature\": 0.7,\n",
    "    \"top_p\": 0.7,\n",
    "    \"top_k\": 50,\n",
    "    \"frequency_penalty\": 0.5,\n",
    "    \"n\": 1,\n",
    "    \"response_format\": {\"type\": \"text\"},\n",
    "    \"tools\": [\n",
    "        {\n",
    "            \"type\": \"function\",\n",
    "            \"function\": {\n",
    "                \"description\": \"<string>\",\n",
    "                \"name\": \"<string>\",\n",
    "                \"parameters\": {},\n",
    "                \"strict\": False\n",
    "            }\n",
    "        }\n",
    "    ]\n",
    "}\n",
    "headers = {\n",
    "    \"Authorization\": \"Bearer \" + deepseek_api_key,\n",
    "    \"Content-Type\": \"application/json\"\n",
    "}\n",
    "\n",
    "response = requests.request(\"POST\", url, json=payload, headers=headers)\n",
    "\n",
    "print(response.text)"
   ]
  },
  {
   "cell_type": "code",
   "execution_count": null,
   "metadata": {},
   "outputs": [],
   "source": [
    "response.json()"
   ]
  },
  {
   "cell_type": "code",
   "execution_count": null,
   "metadata": {},
   "outputs": [],
   "source": [
    "from IPython.display import display, Markdown\n",
    "response_json = response.json()\n",
    "choices_message_content = response_json['choices'][0]['message']['content']\n",
    "display(Markdown(choices_message_content))"
   ]
  },
  {
   "cell_type": "markdown",
   "metadata": {},
   "source": [
    "### Using OpenAI-styled API"
   ]
  },
  {
   "cell_type": "code",
   "execution_count": 2,
   "metadata": {},
   "outputs": [],
   "source": [
    "import openai\n",
    "\n",
    "from api_keys import deepseek_api_key\n",
    "\n",
    "client = openai.OpenAI(api_key=deepseek_api_key, base_url=\"https://api.siliconflow.com/v1\")\n",
    "\n",
    "response = client.chat.completions.create(\n",
    "        model='deepseek-ai/DeepSeek-V3',\n",
    "        messages=[\n",
    "            {\"role\": \"system\", \"content\": \"You are a judge in a football competition.\"},\n",
    "            {\"role\": \"user\", \"content\": \"What are the judging criteria?\"}\n",
    "        ],\n",
    "        max_tokens=800,  # Adjust the number of tokens based on your needs\n",
    "        temperature=0.2,\n",
    "    )"
   ]
  },
  {
   "cell_type": "code",
   "execution_count": null,
   "metadata": {},
   "outputs": [],
   "source": [
    "from IPython.display import display, Markdown\n",
    "display(Markdown(response.choices[0].message.content))"
   ]
  },
  {
   "cell_type": "markdown",
   "metadata": {},
   "source": [
    "### Interactive chat"
   ]
  },
  {
   "cell_type": "code",
   "execution_count": null,
   "metadata": {},
   "outputs": [],
   "source": [
    "from IPython.display import display, Markdown\n",
    "from IPython import get_ipython\n",
    "\n",
    "messages = [\n",
    "    {\"role\": \"system\", \"content\": \"You are a helpful assistant.\"} \n",
    "]\n",
    "\n",
    "for i in range(5):\n",
    "    user_input = input(\"You: \") \n",
    "    if user_input.lower() == \"exit\":\n",
    "        print(\"Chatbot: Goodbye!\")\n",
    "        break\n",
    "    \n",
    "    messages.append({\"role\": \"user\", \"content\": user_input})\n",
    "    display(Markdown(f\"**You:** {user_input}\"))\n",
    "\n",
    "    response = client.chat.completions.create(\n",
    "        model=\"deepseek-ai/DeepSeek-V3\",\n",
    "        messages=messages,\n",
    "        temperature=0.7\n",
    "    )\n",
    "\n",
    "    assistant_reply = response.choices[0].message.content\n",
    "    \n",
    "    display(Markdown(f\"**Chatbot:** {assistant_reply}\"))\n",
    "\n",
    "    messages.append({\"role\": \"assistant\", \"content\": assistant_reply})\n"
   ]
  }
 ],
 "metadata": {
  "kernelspec": {
   "display_name": "mvd-3d",
   "language": "python",
   "name": "python3"
  },
  "language_info": {
   "codemirror_mode": {
    "name": "ipython",
    "version": 3
   },
   "file_extension": ".py",
   "mimetype": "text/x-python",
   "name": "python",
   "nbconvert_exporter": "python",
   "pygments_lexer": "ipython3",
   "version": "3.10.11"
  }
 },
 "nbformat": 4,
 "nbformat_minor": 2
}
