{
 "cells": [
  {
   "cell_type": "markdown",
   "metadata": {},
   "source": [
    "## Test connection"
   ]
  },
  {
   "cell_type": "markdown",
   "metadata": {},
   "source": [
    "This notebook is used to post data to the API and check the response."
   ]
  },
  {
   "cell_type": "markdown",
   "metadata": {},
   "source": [
    "### Send vanilla request"
   ]
  },
  {
   "cell_type": "code",
   "execution_count": 1,
   "metadata": {},
   "outputs": [
    {
     "name": "stdout",
     "output_type": "stream",
     "text": [
      "{\"id\":\"0194cca4c43c6f67e077757540f43c8c\",\"object\":\"chat.completion\",\"created\":1738600137,\"model\":\"deepseek-ai/DeepSeek-V3\",\"choices\":[{\"index\":0,\"message\":{\"role\":\"assistant\",\"content\":\"中国大模型行业在2025年将会迎来一系列机遇和挑战，这些机遇和挑战主要源于技术进步、市场需求、政策支持以及国际竞争等多个方面。\\n\\n### 机遇\\n\\n1. **技术进步**：随着人工智能技术的不断进步，大模型的训练效率和性能将得到显著提升。这将使得大模型在更多领域得到应用，如自然语言处理、计算机视觉、自动驾驶等。\\n\\n2. **市场需求增长**：随着数字化转型的深入，各行各业对大模型的需求将持续增长。特别是在金融、医疗、教育、零售等领域，大模型的应用将帮助企业提高效率、降低成本、优化用户体验。\\n\\n3. **政策支持**：中国政府高度重视人工智能产业的发展，未来将继续出台相关政策支持大模型技术的研发和应用。这将为大模型行业提供良好的发展环境。\\n\\n4. **国际合作与交流**：随着全球化的发展，中国的大模型行业将有机会与国际领先企业和研究机构进行合作与交流，共同推动技术进步和应用创新。\\n\\n### 挑战\\n\\n1. **技术瓶颈**：尽管大模型技术取得了显著进展，但仍面临一些技术瓶颈，如模型的泛化能力、可解释性、能耗等问题。这些问题的解决需要大量的研发投入和技术创新。\\n\\n2. **数据安全与隐私保护**：大模型的训练和应用需要大量的数据，这涉及到数据安全和隐私保护的问题。如何在保证数据安全的前提下充分利用数据资源，是大模型行业面临的一个重要挑战。\\n\\n3. **人才短缺**：大模型的研发和应用需要跨学科的知识和技能，目前市场上相关人才相对短缺。如何培养和吸引更多的高素质人才，是大模型行业发展的关键。\\n\\n4. **国际竞争加剧**：随着全球范围内对人工智能技术的重视程度不断提高，国际竞争将日益激烈。中国的大模型行业需要在技术创新、应用场景拓展等方面不断提升自身竞争力。\\n\\n总的来说，中国大模型行业在2025年将面临广阔的发展前景和诸多挑战。通过不断的技术创新、政策支持和国际合作，有望在全球人工智能领域占据更加重要的位置。\"},\"finish_reason\":\"stop\"}],\"usage\":{\"prompt_tokens\":66,\"completion_tokens\":394,\"total_tokens\":460},\"system_fingerprint\":\"\"}\n"
     ]
    }
   ],
   "source": [
    "from api_keys import deepseek_api_key\n",
    "import requests\n",
    "url = \"https://api.siliconflow.com/v1/chat/completions\"\n",
    "\n",
    "payload = {\n",
    "    \"model\": \"deepseek-ai/DeepSeek-V3\",\n",
    "    \"messages\": [\n",
    "        {\n",
    "            \"role\": \"user\",\n",
    "            \"content\": \"中国大模型行业2025年将会迎来哪些机遇和挑战？\"\n",
    "        }\n",
    "    ],\n",
    "    \"stream\": False,\n",
    "    \"max_tokens\": 512,\n",
    "    \"stop\": [\"null\"],\n",
    "    \"temperature\": 0.7,\n",
    "    \"top_p\": 0.7,\n",
    "    \"top_k\": 50,\n",
    "    \"frequency_penalty\": 0.5,\n",
    "    \"n\": 1,\n",
    "    \"response_format\": {\"type\": \"text\"},\n",
    "    \"tools\": [\n",
    "        {\n",
    "            \"type\": \"function\",\n",
    "            \"function\": {\n",
    "                \"description\": \"<string>\",\n",
    "                \"name\": \"<string>\",\n",
    "                \"parameters\": {},\n",
    "                \"strict\": False\n",
    "            }\n",
    "        }\n",
    "    ]\n",
    "}\n",
    "headers = {\n",
    "    \"Authorization\": \"Bearer \" + deepseek_api_key,\n",
    "    \"Content-Type\": \"application/json\"\n",
    "}\n",
    "\n",
    "response = requests.request(\"POST\", url, json=payload, headers=headers)\n",
    "\n",
    "print(response.text)"
   ]
  },
  {
   "cell_type": "code",
   "execution_count": 20,
   "metadata": {},
   "outputs": [
    {
     "data": {
      "text/plain": [
       "{'id': '0194c7068ac18d212718755f696dc34e',\n",
       " 'object': 'chat.completion',\n",
       " 'created': 1738505882,\n",
       " 'model': 'deepseek-ai/DeepSeek-V3',\n",
       " 'choices': [{'index': 0,\n",
       "   'message': {'role': 'assistant',\n",
       "    'content': '中国大模型行业在2025年将会迎来一系列机遇和挑战，以下是一些关键点：\\n\\n### 机遇\\n\\n1. **政策支持**：中国政府高度重视人工智能和大数据技术的发展，预计将继续出台相关政策，为大模型行业提供资金支持和政策优惠。\\n\\n2. **市场需求增长**：随着数字化转型的深入，各行各业对大模型的需求将持续增长，特别是在金融、医疗、教育、智能制造等领域。\\n\\n3. **技术进步**：算法优化、计算能力提升和数据资源的丰富将推动大模型技术的进一步发展，提高模型的准确性和效率。\\n\\n4. **国际合作**：中国大模型企业有望通过国际合作，引进先进技术和管理经验，同时将中国的大模型解决方案推广到全球市场。\\n\\n### 挑战\\n\\n1. **技术瓶颈**：尽管技术进步显著，但在模型的可解释性、泛化能力和数据隐私保护等方面仍存在挑战。\\n\\n2. **人才短缺**：大模型领域需要大量的高端人才，而目前人才供给不足，成为制约行业发展的瓶颈之一。\\n\\n3. **数据安全与隐私保护**：随着数据量的增加，如何确保数据安全和用户隐私成为一个重要问题。\\n\\n4. **市场竞争加剧**：随着更多企业进入大模型领域，市场竞争将更加激烈，企业需要不断创新以保持竞争优势。\\n\\n5. **伦理和法律问题**：大模型的应用可能引发一系列伦理和法律问题，如算法偏见、责任归属等，需要行业和社会共同探讨解决之道。\\n\\n总体而言，中国大模型行业在2025年将面临巨大的发展机遇和挑战。企业和研究机构需要积极应对这些挑战，抓住机遇，推动行业的健康发展。'},\n",
       "   'finish_reason': 'stop'}],\n",
       " 'usage': {'prompt_tokens': 66, 'completion_tokens': 321, 'total_tokens': 387},\n",
       " 'system_fingerprint': ''}"
      ]
     },
     "execution_count": 20,
     "metadata": {},
     "output_type": "execute_result"
    }
   ],
   "source": [
    "response.json()"
   ]
  },
  {
   "cell_type": "code",
   "execution_count": 19,
   "metadata": {},
   "outputs": [
    {
     "data": {
      "text/markdown": [
       "中国大模型行业在2025年将会迎来一系列机遇和挑战，以下是一些关键点：\n",
       "\n",
       "### 机遇\n",
       "\n",
       "1. **政策支持**：中国政府高度重视人工智能和大数据技术的发展，预计将继续出台相关政策，为大模型行业提供资金支持和政策优惠。\n",
       "\n",
       "2. **市场需求增长**：随着数字化转型的深入，各行各业对大模型的需求将持续增长，特别是在金融、医疗、教育、智能制造等领域。\n",
       "\n",
       "3. **技术进步**：算法优化、计算能力提升和数据资源的丰富将推动大模型技术的进一步发展，提高模型的准确性和效率。\n",
       "\n",
       "4. **国际合作**：中国大模型企业有望通过国际合作，引进先进技术和管理经验，同时将中国的大模型解决方案推广到全球市场。\n",
       "\n",
       "### 挑战\n",
       "\n",
       "1. **技术瓶颈**：尽管技术进步显著，但在模型的可解释性、泛化能力和数据隐私保护等方面仍存在挑战。\n",
       "\n",
       "2. **人才短缺**：大模型领域需要大量的高端人才，而目前人才供给不足，成为制约行业发展的瓶颈之一。\n",
       "\n",
       "3. **数据安全与隐私保护**：随着数据量的增加，如何确保数据安全和用户隐私成为一个重要问题。\n",
       "\n",
       "4. **市场竞争加剧**：随着更多企业进入大模型领域，市场竞争将更加激烈，企业需要不断创新以保持竞争优势。\n",
       "\n",
       "5. **伦理和法律问题**：大模型的应用可能引发一系列伦理和法律问题，如算法偏见、责任归属等，需要行业和社会共同探讨解决之道。\n",
       "\n",
       "总体而言，中国大模型行业在2025年将面临巨大的发展机遇和挑战。企业和研究机构需要积极应对这些挑战，抓住机遇，推动行业的健康发展。"
      ],
      "text/plain": [
       "<IPython.core.display.Markdown object>"
      ]
     },
     "metadata": {},
     "output_type": "display_data"
    }
   ],
   "source": [
    "from IPython.display import display, Markdown\n",
    "response_json = response.json()\n",
    "choices_message_content = response_json['choices'][0]['message']['content']\n",
    "display(Markdown(choices_message_content))"
   ]
  },
  {
   "cell_type": "markdown",
   "metadata": {},
   "source": [
    "### Using OpenAI-styled API"
   ]
  },
  {
   "cell_type": "code",
   "execution_count": 2,
   "metadata": {},
   "outputs": [],
   "source": [
    "import openai\n",
    "\n",
    "from api_keys import deepseek_api_key\n",
    "\n",
    "client = openai.OpenAI(api_key=deepseek_api_key, base_url=\"https://api.siliconflow.com/v1\")\n",
    "\n",
    "response = client.chat.completions.create(\n",
    "        model='deepseek-ai/DeepSeek-V3',\n",
    "        messages=[\n",
    "            {\"role\": \"system\", \"content\": \"You are a judge in a football competition.\"},\n",
    "            {\"role\": \"user\", \"content\": \"What are the judging criteria?\"}\n",
    "        ],\n",
    "        max_tokens=800,  # Adjust the number of tokens based on your needs\n",
    "        temperature=0.2,\n",
    "    )"
   ]
  },
  {
   "cell_type": "code",
   "execution_count": 5,
   "metadata": {},
   "outputs": [
    {
     "data": {
      "text/markdown": [
       "As a judge in a football competition, your primary role is to ensure that the game is played fairly and according to the rules. The judging criteria typically include:\n",
       "\n",
       "### 1. **Adherence to the Laws of the Game**\n",
       "   - Ensure that all players and teams follow the official **Laws of the Game** as set by FIFA or the governing body of the competition.\n",
       "   - Monitor for fouls, offsides, handballs, and other rule violations.\n",
       "\n",
       "### 2. **Fair Play and Sportsmanship**\n",
       "   - Assess the behavior of players, coaches, and staff to ensure they display respect, fairness, and sportsmanship.\n",
       "   - Penalize unsporting behavior, such as diving, time-wasting, or aggressive conduct.\n",
       "\n",
       "### 3. **Decision-Making Accuracy**\n",
       "   - Make accurate and consistent decisions regarding fouls, penalties, goals, and other key moments in the game.\n",
       "   - Use video assistant referee (VAR) technology, if available, to verify critical decisions.\n",
       "\n",
       "### 4. **Control of the Game**\n",
       "   - Maintain control over the match by managing player behavior, diffusing conflicts, and ensuring the game flows smoothly.\n",
       "   - Issue warnings, yellow cards, or red cards as necessary to enforce discipline.\n",
       "\n",
       "### 5. **Positioning and Awareness**\n",
       "   - Position yourself effectively on the field to have the best view of the action.\n",
       "   - Stay alert and focused to catch infractions or incidents that may occur off the ball.\n",
       "\n",
       "### 6. **Communication**\n",
       "   - Communicate clearly with players, coaches, and other officials (e.g., assistant referees, fourth official).\n",
       "   - Explain decisions when necessary to maintain transparency and trust.\n",
       "\n",
       "### 7. **Time Management**\n",
       "   - Keep accurate track of the game clock, including stoppage time, and ensure the match starts and ends on time.\n",
       "\n",
       "### 8. **Consistency**\n",
       "   - Apply the rules consistently throughout the match to ensure fairness for both teams.\n",
       "\n",
       "### 9. **Handling Pressure**\n",
       "   - Remain calm and composed, especially in high-pressure situations or when making controversial decisions.\n",
       "\n",
       "### 10. **Teamwork with Other Officials**\n",
       "   - Collaborate effectively with assistant referees, the fourth official, and VAR officials (if applicable) to ensure all aspects of the game are monitored.\n",
       "\n",
       "### Additional Considerations:\n",
       "- **Goal Decisions**: Verify whether the ball has fully crossed the goal line for a valid goal.\n",
       "- **Penalty Decisions**: Judge whether fouls inside the penalty area warrant a penalty kick.\n",
       "- **Offside Calls**: Work with assistant referees to determine if a player is in an offside position during key moments.\n",
       "\n",
       "By focusing on these criteria, you can ensure the integrity of the competition and provide a fair and enjoyable experience for all participants."
      ],
      "text/plain": [
       "<IPython.core.display.Markdown object>"
      ]
     },
     "metadata": {},
     "output_type": "display_data"
    }
   ],
   "source": [
    "from IPython.display import display, Markdown\n",
    "display(Markdown(response.choices[0].message.content))"
   ]
  },
  {
   "cell_type": "markdown",
   "metadata": {},
   "source": [
    "### Interactive chat"
   ]
  },
  {
   "cell_type": "code",
   "execution_count": 14,
   "metadata": {},
   "outputs": [
    {
     "data": {
      "text/markdown": [
       "**You:** 你好，我叫小明"
      ],
      "text/plain": [
       "<IPython.core.display.Markdown object>"
      ]
     },
     "metadata": {},
     "output_type": "display_data"
    },
    {
     "data": {
      "text/markdown": [
       "**Chatbot:** 你好，小明！很高兴认识你。你今天有什么计划或者有什么我可以帮忙的吗？"
      ],
      "text/plain": [
       "<IPython.core.display.Markdown object>"
      ]
     },
     "metadata": {},
     "output_type": "display_data"
    },
    {
     "data": {
      "text/markdown": [
       "**You:** 我叫什么？"
      ],
      "text/plain": [
       "<IPython.core.display.Markdown object>"
      ]
     },
     "metadata": {},
     "output_type": "display_data"
    },
    {
     "data": {
      "text/markdown": [
       "**Chatbot:** 你刚刚告诉我，你叫小明。如果这是个玩笑或者你想要换个名字，请随时告诉我！😊 有什么我可以为你做的吗？"
      ],
      "text/plain": [
       "<IPython.core.display.Markdown object>"
      ]
     },
     "metadata": {},
     "output_type": "display_data"
    },
    {
     "data": {
      "text/markdown": [
       "**You:** $\\int_{-\\infty}^{+\\infty} \\exp(i\\omega t) dt$ = ? 输出时用$$符号输出公式，不要使用\\(\\) "
      ],
      "text/plain": [
       "<IPython.core.display.Markdown object>"
      ]
     },
     "metadata": {},
     "output_type": "display_data"
    },
    {
     "data": {
      "text/markdown": [
       "**Chatbot:** 积分 $\\int_{-\\infty}^{+\\infty} \\exp(i\\omega t) dt$ 实际上是一个在物理学和工程学中常见的傅里叶变换的基函数。然而，这个积分在常规意义下是不收敛的，因为它涉及到无限振荡的函数在整个实数线上的积分。\n",
       "\n",
       "在分布理论或广义函数理论中，这个积分可以被解释为狄拉克δ函数的一个表示。具体来说：\n",
       "\n",
       "$$\n",
       "\\int_{-\\infty}^{+\\infty} \\exp(i\\omega t) dt = 2\\pi \\delta(\\omega)\n",
       "$$\n",
       "\n",
       "其中，$\\delta(\\omega)$ 是狄拉克δ函数，它在 $\\omega = 0$ 时为无限大，在其他地方为零，并且满足 $\\int_{-\\infty}^{+\\infty} \\delta(\\omega) d\\omega = 1$。"
      ],
      "text/plain": [
       "<IPython.core.display.Markdown object>"
      ]
     },
     "metadata": {},
     "output_type": "display_data"
    },
    {
     "data": {
      "text/markdown": [
       "**You:** Donne-moi le gradient de la distribution de dirac centrée en (0,0,0)"
      ],
      "text/plain": [
       "<IPython.core.display.Markdown object>"
      ]
     },
     "metadata": {},
     "output_type": "display_data"
    },
    {
     "data": {
      "text/markdown": [
       "**Chatbot:** Le gradient de la distribution de Dirac centrée en \\((0,0,0)\\) dans l'espace tridimensionnel peut être exprimé en termes de ses dérivées partielles par rapport aux coordonnées spatiales \\(x\\), \\(y\\), et \\(z\\). La distribution de Dirac \\(\\delta(\\mathbf{r})\\) où \\(\\mathbf{r} = (x, y, z)\\) est une fonction généralisée qui est nulle partout sauf à l'origine et qui intègre à 1 sur tout l'espace.\n",
       "\n",
       "Le gradient \\(\\nabla \\delta(\\mathbf{r})\\) est donc un vecteur de distributions qui s'exprime comme suit :\n",
       "\n",
       "$$\n",
       "\\nabla \\delta(\\mathbf{r}) = \\left( \\frac{\\partial \\delta(\\mathbf{r})}{\\partial x}, \\frac{\\partial \\delta(\\mathbf{r})}{\\partial y}, \\frac{\\partial \\delta(\\mathbf{r})}{\\partial z} \\right)\n",
       "$$\n",
       "\n",
       "Chaque composante du gradient est une distribution qui peut être interprétée comme la dérivée partielle de la distribution de Dirac par rapport à la coordonnée correspondante. Ces dérivées partielles sont elles-mêmes des distributions qui agissent sur des fonctions tests dans le cadre de la théorie des distributions.\n",
       "\n",
       "En termes pratiques, ces dérivées sont souvent utilisées dans des contextes où l'on travaille avec des équations différentielles ou des transformées de Fourier impliquant des distributions."
      ],
      "text/plain": [
       "<IPython.core.display.Markdown object>"
      ]
     },
     "metadata": {},
     "output_type": "display_data"
    },
    {
     "data": {
      "text/markdown": [
       "**You:** gracias"
      ],
      "text/plain": [
       "<IPython.core.display.Markdown object>"
      ]
     },
     "metadata": {},
     "output_type": "display_data"
    },
    {
     "data": {
      "text/markdown": [
       "**Chatbot:** ¡De nada! 😊 Si tienes más preguntas o necesitas ayuda con algo más, no dudes en preguntar. ¡Estoy aquí para ayudarte! 🚀"
      ],
      "text/plain": [
       "<IPython.core.display.Markdown object>"
      ]
     },
     "metadata": {},
     "output_type": "display_data"
    }
   ],
   "source": [
    "from IPython.display import display, Markdown\n",
    "from IPython import get_ipython\n",
    "\n",
    "messages = [\n",
    "    {\"role\": \"system\", \"content\": \"You are a helpful assistant.\"} \n",
    "]\n",
    "\n",
    "for i in range(5):\n",
    "    user_input = input(\"You: \") \n",
    "    if user_input.lower() == \"exit\":\n",
    "        print(\"Chatbot: Goodbye!\")\n",
    "        break\n",
    "    \n",
    "    messages.append({\"role\": \"user\", \"content\": user_input})\n",
    "    display(Markdown(f\"**You:** {user_input}\"))\n",
    "\n",
    "    response = client.chat.completions.create(\n",
    "        model=\"deepseek-ai/DeepSeek-V3\",\n",
    "        messages=messages,\n",
    "        temperature=0.7\n",
    "    )\n",
    "\n",
    "    assistant_reply = response.choices[0].message.content\n",
    "    \n",
    "    display(Markdown(f\"**Chatbot:** {assistant_reply}\"))\n",
    "\n",
    "    messages.append({\"role\": \"assistant\", \"content\": assistant_reply})\n"
   ]
  }
 ],
 "metadata": {
  "kernelspec": {
   "display_name": "mvd-3d",
   "language": "python",
   "name": "python3"
  },
  "language_info": {
   "codemirror_mode": {
    "name": "ipython",
    "version": 3
   },
   "file_extension": ".py",
   "mimetype": "text/x-python",
   "name": "python",
   "nbconvert_exporter": "python",
   "pygments_lexer": "ipython3",
   "version": "3.10.11"
  }
 },
 "nbformat": 4,
 "nbformat_minor": 2
}
