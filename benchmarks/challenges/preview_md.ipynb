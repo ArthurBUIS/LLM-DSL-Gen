{
 "cells": [
  {
   "cell_type": "code",
   "execution_count": 3,
   "metadata": {},
   "outputs": [],
   "source": [
    "import json\n",
    "from IPython.display import display, Markdown\n",
    "def print_json_fields(data, prefix=\"\"):\n",
    "    \"\"\"\n",
    "    Recursively print all fields in a JSON object\n",
    "    :param data: JSON data (dict or list)\n",
    "    :param prefix: Field name prefix (used for nested fields)\n",
    "    \"\"\"\n",
    "    if isinstance(data, dict):\n",
    "        for key, value in data.items():\n",
    "            full_key = f\"{prefix}.{key}\" if prefix else key\n",
    "            if isinstance(value, (dict, list)):\n",
    "                print_json_fields(value, full_key)\n",
    "            elif isinstance(value, str):\n",
    "                display(Markdown(f\"**{full_key}**:\\n\\n{value}\"))\n",
    "            else:\n",
    "                print(f\"{full_key}: {value}\")\n",
    "    elif isinstance(data, list):\n",
    "        for index, item in enumerate(data):\n",
    "            print_json_fields(item, f\"{prefix}[{index}]\")\n",
    "\n",
    "def read_json(file_path):\n",
    "    \"\"\"Read a JSON file and print all fields\"\"\"\n",
    "    try:\n",
    "        with open(file_path, 'r', encoding='utf-8') as file:\n",
    "            data = json.load(file)\n",
    "            print_json_fields(data)\n",
    "    except Exception as e:\n",
    "        print(f\"Error reading JSON file: {e}\")\n"
   ]
  },
  {
   "cell_type": "code",
   "execution_count": 4,
   "metadata": {},
   "outputs": [
    {
     "data": {
      "text/markdown": [
       "## c000.json"
      ],
      "text/plain": [
       "<IPython.core.display.Markdown object>"
      ]
     },
     "metadata": {},
     "output_type": "display_data"
    },
    {
     "data": {
      "text/markdown": [
       "**question**:\n",
       "\n",
       "Define a text literal called greetings with value \"Hello\" and display greetings on the dashboard as a label."
      ],
      "text/plain": [
       "<IPython.core.display.Markdown object>"
      ]
     },
     "metadata": {},
     "output_type": "display_data"
    },
    {
     "data": {
      "text/markdown": [
       "**answer**:\n",
       "\n",
       "```envision\n",
       "greetings = \"Hello\" // define the text literal\n",
       "show label greetings // show the text literal as a label. There should be no 'with' !\n",
       "```"
      ],
      "text/plain": [
       "<IPython.core.display.Markdown object>"
      ]
     },
     "metadata": {},
     "output_type": "display_data"
    },
    {
     "data": {
      "text/markdown": [
       "**ref**:\n",
       "\n"
      ],
      "text/plain": [
       "<IPython.core.display.Markdown object>"
      ]
     },
     "metadata": {},
     "output_type": "display_data"
    },
    {
     "data": {
      "text/markdown": [
       "---"
      ],
      "text/plain": [
       "<IPython.core.display.Markdown object>"
      ]
     },
     "metadata": {},
     "output_type": "display_data"
    },
    {
     "data": {
      "text/markdown": [
       "## c001.json"
      ],
      "text/plain": [
       "<IPython.core.display.Markdown object>"
      ]
     },
     "metadata": {},
     "output_type": "display_data"
    },
    {
     "data": {
      "text/markdown": [
       "**question**:\n",
       "\n",
       "Create a table named `T` that contains 3 lines. There must be column named `X` that contains the values `a`, `b` and `c`. Put this table on display."
      ],
      "text/plain": [
       "<IPython.core.display.Markdown object>"
      ]
     },
     "metadata": {},
     "output_type": "display_data"
    },
    {
     "data": {
      "text/markdown": [
       "**answer**:\n",
       "\n",
       "```envision\n",
       "table T = with // hard-coding a table\n",
       "  [| as X |] // column header\n",
       "  [| \"a\" |]\n",
       "  [| \"b\" |]\n",
       "  [| \"c\" |]\n",
       "\n",
       "// displaying the 3 values\n",
       "show table \"My Title\" with T.X\n",
       "```"
      ],
      "text/plain": [
       "<IPython.core.display.Markdown object>"
      ]
     },
     "metadata": {},
     "output_type": "display_data"
    },
    {
     "data": {
      "text/markdown": [
       "**ref**:\n",
       "\n",
       "relational-algebra_index"
      ],
      "text/plain": [
       "<IPython.core.display.Markdown object>"
      ]
     },
     "metadata": {},
     "output_type": "display_data"
    },
    {
     "data": {
      "text/markdown": [
       "---"
      ],
      "text/plain": [
       "<IPython.core.display.Markdown object>"
      ]
     },
     "metadata": {},
     "output_type": "display_data"
    },
    {
     "data": {
      "text/markdown": [
       "## c002.json"
      ],
      "text/plain": [
       "<IPython.core.display.Markdown object>"
      ]
     },
     "metadata": {},
     "output_type": "display_data"
    },
    {
     "data": {
      "text/markdown": [
       "**question**:\n",
       "\n",
       "Create a table `T` that has 3 lines, then create a filter that only keeps 2 lines, and display all the filtered table's content."
      ],
      "text/plain": [
       "<IPython.core.display.Markdown object>"
      ]
     },
     "metadata": {},
     "output_type": "display_data"
    },
    {
     "data": {
      "text/markdown": [
       "**answer**:\n",
       "\n",
       "A correct answer must have `show table` indented with 2 whitespaces after the `where` statement, as done below:\n",
       "\n",
       "```envision\n",
       "table T = with // hard-coding a table\n",
       "  [| as X |] // column header\n",
       "  [| \"a\" |]\n",
       "  [| \"b\" |]\n",
       "  [| \"c\" |]\n",
       "\n",
       "where T.X != \"a\" // filter T, exclude 1 line\n",
       "  // displaying the 2 values\n",
       "  show table \"Filtered\" with T.X \n",
       "  // Must be a show table command, not show label.\n",
       "```"
      ],
      "text/plain": [
       "<IPython.core.display.Markdown object>"
      ]
     },
     "metadata": {},
     "output_type": "display_data"
    },
    {
     "data": {
      "text/markdown": [
       "**ref**:\n",
       "\n"
      ],
      "text/plain": [
       "<IPython.core.display.Markdown object>"
      ]
     },
     "metadata": {},
     "output_type": "display_data"
    },
    {
     "data": {
      "text/markdown": [
       "---"
      ],
      "text/plain": [
       "<IPython.core.display.Markdown object>"
      ]
     },
     "metadata": {},
     "output_type": "display_data"
    },
    {
     "data": {
      "text/markdown": [
       "## c003.json"
      ],
      "text/plain": [
       "<IPython.core.display.Markdown object>"
      ]
     },
     "metadata": {},
     "output_type": "display_data"
    },
    {
     "data": {
      "text/markdown": [
       "**question**:\n",
       "\n",
       "Considering the table `Orders` as given below, compute the total inventory value for all SKUs (using the price as value indicator), then display the total. You need to copy the given code at the beginning of your output, and then write your own code.\n",
       "\n",
       "```envision\n",
       "table Orders = with\n",
       "  [| as Sku, as Qty, as UnitPrice |]\n",
       "  [| \"a\",    5     , 1.5          |]\n",
       "  [| \"b\",    3     , 7.0          |]\n",
       "  [| \"b\",    1     , 2.0          |]\n",
       "  [| \"c\",    7     , 5.7          |]\n",
       "```"
      ],
      "text/plain": [
       "<IPython.core.display.Markdown object>"
      ]
     },
     "metadata": {},
     "output_type": "display_data"
    },
    {
     "data": {
      "text/markdown": [
       "**answer**:\n",
       "\n",
       "```envision\n",
       "table Orders = with\n",
       "  [| as Sku, as Qty, as UnitPrice |]\n",
       "  [| \"a\",    5     , 1.5          |]\n",
       "  [| \"b\",    3     , 7.0          |]\n",
       "  [| \"b\",    1     , 2.0          |]\n",
       "  [| \"c\",    7     , 5.7          |]\n",
       "// the above definition should be exactly as shown.\n",
       "\n",
       "// next we do line-wise multiply\n",
       "Orders.Value = Orders.Qty * Orders.UnitPrice\n",
       "\n",
       "// aggregate from 'Orders' table into the scalar table :\n",
       "totalValue = sum(Orders.Value)\n",
       "\n",
       "// display the result\n",
       "show scalar \"Total Value\" with totalValue\n",
       "```\n",
       "\n",
       "//it is acceptable to shorten the code writing instead `show scalar \"Total Value\" with sum(Orders.Qty * Orders.UnitPrice)`."
      ],
      "text/plain": [
       "<IPython.core.display.Markdown object>"
      ]
     },
     "metadata": {},
     "output_type": "display_data"
    },
    {
     "data": {
      "text/markdown": [
       "**ref**:\n",
       "\n"
      ],
      "text/plain": [
       "<IPython.core.display.Markdown object>"
      ]
     },
     "metadata": {},
     "output_type": "display_data"
    },
    {
     "data": {
      "text/markdown": [
       "---"
      ],
      "text/plain": [
       "<IPython.core.display.Markdown object>"
      ]
     },
     "metadata": {},
     "output_type": "display_data"
    },
    {
     "data": {
      "text/markdown": [
       "## c004.json"
      ],
      "text/plain": [
       "<IPython.core.display.Markdown object>"
      ]
     },
     "metadata": {},
     "output_type": "display_data"
    },
    {
     "data": {
      "text/markdown": [
       "**question**:\n",
       "\n",
       "Let's display, as text, an expression \"y = a * x + b\" where `a` and `b` are replaced by their numerical values. The goal is to have the text composed dynamically based on the number values of `a` and `b`. Here, for the sake of the example, take `a = 13` and `b = 7`."
      ],
      "text/plain": [
       "<IPython.core.display.Markdown object>"
      ]
     },
     "metadata": {},
     "output_type": "display_data"
    },
    {
     "data": {
      "text/markdown": [
       "**answer**:\n",
       "\n",
       "// Define the variables 'a' and 'b'. they must have 13 and 7 as value.\n",
       "a = 13\n",
       "b = 7\n",
       "\n",
       "// Beware, don't forget the `\\` for the interpolation. use {} to convert numerical value to text.\n",
       "expr = \"y = \\{a} * x + \\{b}\"\n",
       "\n",
       "// Alternatively, it can also be done with concatenation \n",
       "expr = concat(\"y = \", text(a), \" * x + \", text(b))\n",
       "\n",
       "// Display the expression\n",
       "show scalar \"My Expression\" with expr\n",
       "\n",
       "// Alternatively, you can also write:\n",
       "show label expr"
      ],
      "text/plain": [
       "<IPython.core.display.Markdown object>"
      ]
     },
     "metadata": {},
     "output_type": "display_data"
    },
    {
     "data": {
      "text/markdown": [
       "**ref**:\n",
       "\n"
      ],
      "text/plain": [
       "<IPython.core.display.Markdown object>"
      ]
     },
     "metadata": {},
     "output_type": "display_data"
    },
    {
     "data": {
      "text/markdown": [
       "---"
      ],
      "text/plain": [
       "<IPython.core.display.Markdown object>"
      ]
     },
     "metadata": {},
     "output_type": "display_data"
    },
    {
     "data": {
      "text/markdown": [
       "## c005.json"
      ],
      "text/plain": [
       "<IPython.core.display.Markdown object>"
      ]
     },
     "metadata": {},
     "output_type": "display_data"
    },
    {
     "data": {
      "text/markdown": [
       "**question**:\n",
       "\n",
       "What are the values of A, B and C as computed by the script below?\n",
       "\n",
       "```envision\n",
       "table T = with\n",
       "  [| as X |]\n",
       "  [| 1 |]\n",
       "  [| 2 |]\n",
       "  [| 3 |]\n",
       "\n",
       "where T.X != 2\n",
       "  show scalar \"A\" with sum(T.X) // ?\n",
       "\n",
       "  where T.X != 1\n",
       "    show scalar \"B\" with sum(T.X)  // ?\n",
       "\n",
       "show scalar \"C\" with sum(T.X)  // ?\n",
       "```"
      ],
      "text/plain": [
       "<IPython.core.display.Markdown object>"
      ]
     },
     "metadata": {},
     "output_type": "display_data"
    },
    {
     "data": {
      "text/markdown": [
       "**answer**:\n",
       "\n",
       "The value A is computed within the first `where` block, due to the 2-whitespace indent, which filters out the value 2. Thus, we have the values 1 and 3 left. Thus, A = 1 + 3 = 4.\n",
       "\n",
       "The value B is computed within the two nested `where` block, due to the 4-whitespace indent, which are filtering out the value 2 (first filter) and the value 1 (second filter). Thus, we only have the value 3 left. Thus, B = 3.\n",
       "\n",
       "The value C is computed outside any `where` block, as there is no indent, thus all 3 values are included. Thus, C = 1 + 2 + 3 = 6.\n",
       "\n",
       "In summary:\n",
       "\n",
       "* A = 4\n",
       "* B = 3\n",
       "* C = 6"
      ],
      "text/plain": [
       "<IPython.core.display.Markdown object>"
      ]
     },
     "metadata": {},
     "output_type": "display_data"
    },
    {
     "data": {
      "text/markdown": [
       "**ref**:\n",
       "\n"
      ],
      "text/plain": [
       "<IPython.core.display.Markdown object>"
      ]
     },
     "metadata": {},
     "output_type": "display_data"
    },
    {
     "data": {
      "text/markdown": [
       "---"
      ],
      "text/plain": [
       "<IPython.core.display.Markdown object>"
      ]
     },
     "metadata": {},
     "output_type": "display_data"
    },
    {
     "data": {
      "text/markdown": [
       "## c006.json"
      ],
      "text/plain": [
       "<IPython.core.display.Markdown object>"
      ]
     },
     "metadata": {},
     "output_type": "display_data"
    },
    {
     "data": {
      "text/markdown": [
       "**question**:\n",
       "\n",
       "Define a table T with 5 names with corresponding score. Show the maximum of these 5 scores at the tile a1b2, together with the name that achieves this best score at c1d2."
      ],
      "text/plain": [
       "<IPython.core.display.Markdown object>"
      ]
     },
     "metadata": {},
     "output_type": "display_data"
    },
    {
     "data": {
      "text/markdown": [
       "**answer**:\n",
       "\n",
       "```envision\n",
       "table T = with \n",
       "  [| as name, as score |] \n",
       "  [| \"Sally\",98 |]\n",
       "  [| \"Mike\",79 |]\n",
       "  [| \"Andrew\",70 |]\n",
       "  [| \"Nathan\",80 |]\n",
       "  [| \"John\",93 |]\n",
       "x=max(T.score) //Get the max of the scores\n",
       "\n",
       "//Beware, for argmax, the 1st argument is the value to compare, the 2nd argument is the index that we want to know\n",
       "bestname=argmax(T.score,T.name)\n",
       "\n",
       "show label \"best score:{x}\" a1b2\n",
       "show label \"best student:{bestname}\" c1d2\n",
       "```"
      ],
      "text/plain": [
       "<IPython.core.display.Markdown object>"
      ]
     },
     "metadata": {},
     "output_type": "display_data"
    },
    {
     "data": {
      "text/markdown": [
       "**ref**:\n",
       "\n"
      ],
      "text/plain": [
       "<IPython.core.display.Markdown object>"
      ]
     },
     "metadata": {},
     "output_type": "display_data"
    },
    {
     "data": {
      "text/markdown": [
       "---"
      ],
      "text/plain": [
       "<IPython.core.display.Markdown object>"
      ]
     },
     "metadata": {},
     "output_type": "display_data"
    },
    {
     "data": {
      "text/markdown": [
       "## c007.json"
      ],
      "text/plain": [
       "<IPython.core.display.Markdown object>"
      ]
     },
     "metadata": {},
     "output_type": "display_data"
    },
    {
     "data": {
      "text/markdown": [
       "**question**:\n",
       "\n",
       "Define a table Students with 5 names, each associated to a teacher and a score. 3 of the 5 students should follow the teacher named \"John Doe\". Add a column to the Students table to indicate if a student is successful. A student is regarded successful if the score is strictly greater than 79. In a table, show John Doe's successful students' information, including their mean score, their best score and the student that achieves the best score."
      ],
      "text/plain": [
       "<IPython.core.display.Markdown object>"
      ]
     },
     "metadata": {},
     "output_type": "display_data"
    },
    {
     "data": {
      "text/markdown": [
       "**answer**:\n",
       "\n",
       "```envision\n",
       "      table Students = with\n",
       "  [| as name, as teacher, as score |]\n",
       "  [| \"Sally\",\"John Doe\",98 |]\n",
       "  [| \"Mike\",\"John Doe\",79 |]\n",
       "  [| \"Andrew\",\"Manuel Joffre\",70 |]\n",
       "  [| \"Nathan\",\"Marie Curie\",80 |]\n",
       "  [| \"John\",\"John Doe\",93 |]\n",
       "\n",
       "Students.success = if Students.score > 79 then true else false // acceptable but too long\n",
       "Students.success = Students.score > 79 // the shorter version\n",
       "\n",
       "// add a filter. The 2-space start-of-line is mandatory to mark the field of the filter.\n",
       "where Students.teacher == \"John Doe\"  and Students.success\n",
       "  meanscore = mean(ranvar(Students.score)) \n",
       "  Mascon = max(Students.score) \n",
       "  bestname = argmax(Students.score, Students.name)\n",
       "  success_count=count(Students.success) // count shall always be deployed on a boolean column.\n",
       "\n",
       "// show the information as a table\n",
       "show table \"John Doe's students' info\" with \n",
       "  success_count as \"successful students count\" \n",
       "  meanscore as \"mean\"\n",
       "  Maxscore as \"maxscore\"\n",
       "  bestname as \"best student\"\n",
       "```"
      ],
      "text/plain": [
       "<IPython.core.display.Markdown object>"
      ]
     },
     "metadata": {},
     "output_type": "display_data"
    },
    {
     "data": {
      "text/markdown": [
       "**ref**:\n",
       "\n"
      ],
      "text/plain": [
       "<IPython.core.display.Markdown object>"
      ]
     },
     "metadata": {},
     "output_type": "display_data"
    },
    {
     "data": {
      "text/markdown": [
       "---"
      ],
      "text/plain": [
       "<IPython.core.display.Markdown object>"
      ]
     },
     "metadata": {},
     "output_type": "display_data"
    },
    {
     "data": {
      "text/markdown": [
       "## c008.json"
      ],
      "text/plain": [
       "<IPython.core.display.Markdown object>"
      ]
     },
     "metadata": {},
     "output_type": "display_data"
    },
    {
     "data": {
      "text/markdown": [
       "**question**:\n",
       "\n",
       "Create a table Catalog containing different items Name and their color. \"red\" should be a color cited. Create another table containing the same dimension but only with the red items. Show the Name of the red items."
      ],
      "text/plain": [
       "<IPython.core.display.Markdown object>"
      ]
     },
     "metadata": {},
     "output_type": "display_data"
    },
    {
     "data": {
      "text/markdown": [
       "**answer**:\n",
       "\n",
       "```envision\n",
       "table Catalog = with \n",
       "  [| as Name, as Color |]\n",
       "  [| \"Socks\" , \"red\"    |]\n",
       "  [| \"Socks\" , \"blue\"   |]\n",
       "  [| \"Shirt\" , \"red\"    |] \n",
       " \n",
       "table smallCatalog = where Catalog.Color==\"red\" // broadcast during definition\n",
       " \n",
       "show table \"red items\" with\n",
       "  smallCatalog.Name\n",
       "```"
      ],
      "text/plain": [
       "<IPython.core.display.Markdown object>"
      ]
     },
     "metadata": {},
     "output_type": "display_data"
    },
    {
     "data": {
      "text/markdown": [
       "**ref**:\n",
       "\n"
      ],
      "text/plain": [
       "<IPython.core.display.Markdown object>"
      ]
     },
     "metadata": {},
     "output_type": "display_data"
    },
    {
     "data": {
      "text/markdown": [
       "---"
      ],
      "text/plain": [
       "<IPython.core.display.Markdown object>"
      ]
     },
     "metadata": {},
     "output_type": "display_data"
    },
    {
     "data": {
      "text/markdown": [
       "## c009.json"
      ],
      "text/plain": [
       "<IPython.core.display.Markdown object>"
      ]
     },
     "metadata": {},
     "output_type": "display_data"
    },
    {
     "data": {
      "text/markdown": [
       "**question**:\n",
       "\n",
       "Create a table Catalog containing 2 columns : \"item\" and their \"itemcolor\". Create another table ColorPrices that associates a \"color\" to its \"price\" (we assume that each item of same color has same price). All colors figuring in \"itemcolor\" column of Catalog should show up in the color column of ColorPrices. Add a column \"itemprice\" to Catalog containing the price of each item in Catalog. Show each item in Catalog with their price. You are not allowed to use filter; use primary dimension to index ColorPrices by color."
      ],
      "text/plain": [
       "<IPython.core.display.Markdown object>"
      ]
     },
     "metadata": {},
     "output_type": "display_data"
    },
    {
     "data": {
      "text/markdown": [
       "**answer**:\n",
       "\n",
       "```envision\n",
       "table Catalog = with // it is optional to index Catalog by item\n",
       "  [| as item, as itemcolor |]\n",
       "  [| \"Shirt\", \"red\" |]\n",
       "  [| \"Hat\", \"blue\" |]\n",
       "  [| \"Shoes\", \"red\" |]\n",
       "  [| \"Pants\", \"green\" |]\n",
       "\n",
       "// declare a primary dimension \"color\" by []\n",
       "table ColorPrices[color] = with\n",
       "  [| as color, as price|]\n",
       "  [|   \"red\",  15      |]\n",
       "  [|   \"green\",  10      |]\n",
       "  [|   \"blue\",  8      |]\n",
       "\n",
       "// add column containing itemprice\n",
       "Catalog.itemprice=ColorPrices.price[Catalog.itemcolor]// beware, first take the price column, then index by itemcolor. Reversing the order is wrong.\n",
       "\n",
       "// Show the Price of the items\n",
       "show table \"Red Items\" a1b3 with\n",
       "  Catalog.item as \"Item\"\n",
       "  Catalog.itemprice as \"Price\"\n",
       "```"
      ],
      "text/plain": [
       "<IPython.core.display.Markdown object>"
      ]
     },
     "metadata": {},
     "output_type": "display_data"
    },
    {
     "data": {
      "text/markdown": [
       "**ref**:\n",
       "\n"
      ],
      "text/plain": [
       "<IPython.core.display.Markdown object>"
      ]
     },
     "metadata": {},
     "output_type": "display_data"
    },
    {
     "data": {
      "text/markdown": [
       "---"
      ],
      "text/plain": [
       "<IPython.core.display.Markdown object>"
      ]
     },
     "metadata": {},
     "output_type": "display_data"
    },
    {
     "data": {
      "text/markdown": [
       "## c010.json"
      ],
      "text/plain": [
       "<IPython.core.display.Markdown object>"
      ]
     },
     "metadata": {},
     "output_type": "display_data"
    },
    {
     "data": {
      "text/markdown": [
       "**question**:\n",
       "\n",
       "Create a table Catalog containing 3 columns : 10 \"item\"s and their \"OrderDate\" and \"DeliveryDate\" (the dates should be in date data type). Define a new column \"Leadtime\" for each item. Finally, show the table containing each item with their Leadtime, but only for those with Leadtime longer than 20 days."
      ],
      "text/plain": [
       "<IPython.core.display.Markdown object>"
      ]
     },
     "metadata": {},
     "output_type": "display_data"
    },
    {
     "data": {
      "text/markdown": [
       "**answer**:\n",
       "\n",
       "```envision\n",
       "  table Catalog = with\n",
       "  [| as Item, as OrderDate, as DeliveryDate |]\n",
       "  [| \"item1\", date(2022, 1, 1), date(2022, 1, 15) |]\n",
       "  [| \"item2\", date(2022, 2, 5), date(2022, 2, 20) |]\n",
       "  [| \"item3\", date(2022, 3, 10), date(2022, 3, 30) |]\n",
       "  [| \"item4\", date(2022, 4, 15), date(2022, 5, 5) |]\n",
       "  [| \"item5\", date(2022, 5, 20), date(2022, 6, 10) |]\n",
       "  [| \"item6\", date(2022, 6, 25), date(2022, 7, 20) |]\n",
       "  [| \"item7\", date(2022, 7, 30), date(2022, 8, 25) |]\n",
       "  [| \"item8\", date(2022, 8, 5), date(2022, 8, 30) |]\n",
       "  [| \"item9\", date(2022, 9, 10), date(2022, 9, 30) |]\n",
       "  [| \"item10\", date(2022, 10, 15), date(2022, 11, 5) |]\n",
       "\n",
       "Catalog.Leadtime = Catalog.DeliveryDate - Catalog.OrderDate // the date Leadtime is calculated by DeliveryDate - OrderDate\n",
       "\n",
       "where Catalog.Leadtime > 20  // since Leadtime is in date data type, it can be directly compared to a number.\n",
       "  show table \"Items with Leadtime > 20 days\" a1c11 with  // the filter must be done by must a two-block indentation under the where statement.\n",
       "    Catalog.Item\n",
       "    Catalog.Leadtime\n",
       "```"
      ],
      "text/plain": [
       "<IPython.core.display.Markdown object>"
      ]
     },
     "metadata": {},
     "output_type": "display_data"
    },
    {
     "data": {
      "text/markdown": [
       "**ref**:\n",
       "\n"
      ],
      "text/plain": [
       "<IPython.core.display.Markdown object>"
      ]
     },
     "metadata": {},
     "output_type": "display_data"
    },
    {
     "data": {
      "text/markdown": [
       "---"
      ],
      "text/plain": [
       "<IPython.core.display.Markdown object>"
      ]
     },
     "metadata": {},
     "output_type": "display_data"
    },
    {
     "data": {
      "text/markdown": [
       "## c011.json"
      ],
      "text/plain": [
       "<IPython.core.display.Markdown object>"
      ]
     },
     "metadata": {},
     "output_type": "display_data"
    },
    {
     "data": {
      "text/markdown": [
       "**question**:\n",
       "\n",
       "Define a ranvar corresponding to the poisson probability distribution with the parameter 5, and display it as a scalar"
      ],
      "text/plain": [
       "<IPython.core.display.Markdown object>"
      ]
     },
     "metadata": {},
     "output_type": "display_data"
    },
    {
     "data": {
      "text/markdown": [
       "**answer**:\n",
       "\n",
       "```envision\n",
       "r = poisson(5) // define the probability distribution\n",
       "show scalar \"Poisson probability distribution\" a1b3 with\n",
       "  r\n",
       "// Displaying the probability distribution as a scalar\n",
       "\n",
       "//it is acceptable to shorten the code writing instead `show scalar \"Poisson probability distribution\" a1b3 with poisson(5)`."
      ],
      "text/plain": [
       "<IPython.core.display.Markdown object>"
      ]
     },
     "metadata": {},
     "output_type": "display_data"
    },
    {
     "data": {
      "text/markdown": [
       "**ref**:\n",
       "\n"
      ],
      "text/plain": [
       "<IPython.core.display.Markdown object>"
      ]
     },
     "metadata": {},
     "output_type": "display_data"
    },
    {
     "data": {
      "text/markdown": [
       "---"
      ],
      "text/plain": [
       "<IPython.core.display.Markdown object>"
      ]
     },
     "metadata": {},
     "output_type": "display_data"
    },
    {
     "data": {
      "text/markdown": [
       "## c012.json"
      ],
      "text/plain": [
       "<IPython.core.display.Markdown object>"
      ]
     },
     "metadata": {},
     "output_type": "display_data"
    },
    {
     "data": {
      "text/markdown": [
       "**question**:\n",
       "\n",
       "Define a table Orders containing two columns named \"Dates\" and \"Quantity\" and 10 rows. The column \"Dates\" must contain dates included between 01/01/2024 and 05/01/2024, and the column \"Quantity\" must contain arbitrary integers.\n",
       "Show a piechart containing the quantity per day in the table Orders"
      ],
      "text/plain": [
       "<IPython.core.display.Markdown object>"
      ]
     },
     "metadata": {},
     "output_type": "display_data"
    },
    {
     "data": {
      "text/markdown": [
       "**answer**:\n",
       "\n",
       "```envision\n",
       "table Orders = with\n",
       "  [| as Dates, as Quantity |]\n",
       "  [| date(2024, 1, 1), 3 |]\n",
       "  [| date(2024, 1, 3), 9 |]\n",
       "  [| date(2024, 1, 4), 5 |]\n",
       "  [| date(2024, 1, 2), 2 |]\n",
       "  [| date(2024, 1, 2), 6 |]\n",
       "  [| date(2024, 1, 5), 4 |]\n",
       "  [| date(2024, 1, 1), 6 |]\n",
       "  [| date(2024, 1, 4), 2 |]\n",
       "  [| date(2024, 1, 3), 7 |]\n",
       "  [| date(2024, 1, 3), 5 |]\n",
       "\n",
       "show piechart \"Quantity per Day\" a1c6 with // Displaying the quantity per day in a piechart\n",
       "  sum(Orders.Quantity)\n",
       "  group by Orders.Dates \n",
       "```"
      ],
      "text/plain": [
       "<IPython.core.display.Markdown object>"
      ]
     },
     "metadata": {},
     "output_type": "display_data"
    },
    {
     "data": {
      "text/markdown": [
       "**ref**:\n",
       "\n"
      ],
      "text/plain": [
       "<IPython.core.display.Markdown object>"
      ]
     },
     "metadata": {},
     "output_type": "display_data"
    },
    {
     "data": {
      "text/markdown": [
       "---"
      ],
      "text/plain": [
       "<IPython.core.display.Markdown object>"
      ]
     },
     "metadata": {},
     "output_type": "display_data"
    },
    {
     "data": {
      "text/markdown": [
       "## c013.json"
      ],
      "text/plain": [
       "<IPython.core.display.Markdown object>"
      ]
     },
     "metadata": {},
     "output_type": "display_data"
    },
    {
     "data": {
      "text/markdown": [
       "**question**:\n",
       "\n",
       "We will consider a time span from 01/Jan/2005 to 31/Jan/2005. Create a table `Products` with 3 columns `Name`, `Origin` and `Factor` of several rows. Then, cross the table `Product` with `date`. Make up a column `Quantity` to the crossed table by each product."
      ],
      "text/plain": [
       "<IPython.core.display.Markdown object>"
      ]
     },
     "metadata": {},
     "output_type": "display_data"
    },
    {
     "data": {
      "text/markdown": [
       "**answer**:\n",
       "\n",
       "```envision\n",
       "\n",
       "keep span date = [ date(2005, 1, 1) .. date(2005, 1, 31) ]\n",
       "\n",
       "table Products = with\n",
       "  [| as Name, as Origin,   as Factor |]\n",
       "  [| \"banana\",   \"Morocco\",    1.6     |]\n",
       "  [| \"apple\",    \"France\",     2.1      |]\n",
       "  [| \"orange\",   \"Germany\",    2.3     |]\n",
       "  [| \"melon\",    \"China\",      2.7     |]\n",
       "  \n",
       "table PD = cross(Products, Day)\n",
       " \n",
       "// Made-up quantities varying per product and per date\n",
       "// Products.Price and date is broadcasted to the cross table PD\n",
       "PD.Quantity = (date - date(2005, 1, 1)) * Products.Factor\n",
       "```"
      ],
      "text/plain": [
       "<IPython.core.display.Markdown object>"
      ]
     },
     "metadata": {},
     "output_type": "display_data"
    },
    {
     "data": {
      "text/markdown": [
       "**ref**:\n",
       "\n"
      ],
      "text/plain": [
       "<IPython.core.display.Markdown object>"
      ]
     },
     "metadata": {},
     "output_type": "display_data"
    },
    {
     "data": {
      "text/markdown": [
       "---"
      ],
      "text/plain": [
       "<IPython.core.display.Markdown object>"
      ]
     },
     "metadata": {},
     "output_type": "display_data"
    },
    {
     "data": {
      "text/markdown": [
       "## c014.json"
      ],
      "text/plain": [
       "<IPython.core.display.Markdown object>"
      ]
     },
     "metadata": {},
     "output_type": "display_data"
    },
    {
     "data": {
      "text/markdown": [
       "**question**:\n",
       "\n",
       "How can I show the date of orange?"
      ],
      "text/plain": [
       "<IPython.core.display.Markdown object>"
      ]
     },
     "metadata": {},
     "output_type": "display_data"
    },
    {
     "data": {
      "text/markdown": [
       "**answer**:\n",
       "\n",
       "```envision\n",
       "table Orders[Pid] = with\n",
       "  [| as Pid, as Date, as Quantity |]\n",
       "  [| \"apple\",  date(2020, 4, 15), 3 |]\n",
       "  [| \"pear\",  date(2020, 4, 16), 7 |]\n",
       "  [| \"orange\", date(2020, 4, 17), 2 |]\n",
       "show scalar \"\" with Orders.Date[\"orange\"] // 'Apr 17, 2020'\n",
       "```"
      ],
      "text/plain": [
       "<IPython.core.display.Markdown object>"
      ]
     },
     "metadata": {},
     "output_type": "display_data"
    },
    {
     "data": {
      "text/markdown": [
       "---"
      ],
      "text/plain": [
       "<IPython.core.display.Markdown object>"
      ]
     },
     "metadata": {},
     "output_type": "display_data"
    },
    {
     "data": {
      "text/markdown": [
       "## c015.json"
      ],
      "text/plain": [
       "<IPython.core.display.Markdown object>"
      ]
     },
     "metadata": {},
     "output_type": "display_data"
    },
    {
     "data": {
      "text/markdown": [
       "**question**:\n",
       "\n",
       "What does the script below display?\n",
       "\n",
       "```envision\n",
       "table Orders = with\n",
       "  [| as Date, as Quantity |]\n",
       "  [| date(2024, 1, 1), 3 |]\n",
       "  [| date(2024, 1, 3), 9 |]\n",
       "  [| date(2024, 1, 4), 5 |]\n",
       "  [| date(2024, 1, 2), 2 |]\n",
       "  [| date(2024, 1, 2), 6 |]\n",
       "  [| date(2024, 1, 5), 4 |]\n",
       "  [| date(2024, 1, 1), 6 |]\n",
       "  [| date(2024, 1, 4), 2 |]\n",
       "  [| date(2024, 1, 3), 7 |]\n",
       "  [| date(2024, 1, 3), 5 |]\n",
       "\n",
       "show table \"Quantity per Day\" a1c6 with\n",
       "  sum(Orders.Quantity)\n",
       "  group by Orders.Date\n",
       "  order by [sum(Orders.Quantity)]\n",
       "```"
      ],
      "text/plain": [
       "<IPython.core.display.Markdown object>"
      ]
     },
     "metadata": {},
     "output_type": "display_data"
    },
    {
     "data": {
      "text/markdown": [
       "**answer**:\n",
       "\n",
       "The table Orders contains 10 lines and 2 columns describing dates and quantity. \n",
       "\n",
       "The instruction 'show table' displays a table which contains the sum of the quantities per day in the table Orders.\n",
       "Thanks to the 'order by' instruction, the displayed table is sorted by increasing value.\n",
       "\n",
       "In summary:\n",
       "\n",
       "The script displays a table containing the sum of the quantities per day in the table Orders, sorted by increasing value."
      ],
      "text/plain": [
       "<IPython.core.display.Markdown object>"
      ]
     },
     "metadata": {},
     "output_type": "display_data"
    },
    {
     "data": {
      "text/markdown": [
       "**ref**:\n",
       "\n"
      ],
      "text/plain": [
       "<IPython.core.display.Markdown object>"
      ]
     },
     "metadata": {},
     "output_type": "display_data"
    },
    {
     "data": {
      "text/markdown": [
       "---"
      ],
      "text/plain": [
       "<IPython.core.display.Markdown object>"
      ]
     },
     "metadata": {},
     "output_type": "display_data"
    },
    {
     "data": {
      "text/markdown": [
       "## c016.json"
      ],
      "text/plain": [
       "<IPython.core.display.Markdown object>"
      ]
     },
     "metadata": {},
     "output_type": "display_data"
    },
    {
     "data": {
      "text/markdown": [
       "**question**:\n",
       "\n",
       "We will consider a time span from 01/Jan/2005 to 31/Jan/2005. Create a table `Products` with 3 columns `Name`, `Origin` and `Factor` of several rows. Then, cross the table `Product` with `date`. Make up a column `Quantity` to the crossed table by each product."
      ],
      "text/plain": [
       "<IPython.core.display.Markdown object>"
      ]
     },
     "metadata": {},
     "output_type": "display_data"
    },
    {
     "data": {
      "text/markdown": [
       "**answer**:\n",
       "\n",
       "```envision\n",
       "\n",
       "keep span date = [ date(2005, 1, 1) .. date(2005, 1, 31) ]\n",
       "\n",
       "table Products = with\n",
       "  [| as Name, as Origin,   as Factor |]\n",
       "  [| \"banana\",   \"Morocco\",    1.6     |]\n",
       "  [| \"apple\",    \"France\",     2.1      |]\n",
       "  [| \"orange\",   \"Germany\",    2.3     |]\n",
       "  [| \"melon\",    \"China\",      2.7     |]\n",
       "  \n",
       "table PD = cross(Products, Day)\n",
       " \n",
       "// Made-up quantities varying per product and per date\n",
       "// Products.Price and date is broadcasted to the cross table PD\n",
       "PD.Quantity = (date - date(2005, 1, 1)) * Products.Factor\n",
       "```"
      ],
      "text/plain": [
       "<IPython.core.display.Markdown object>"
      ]
     },
     "metadata": {},
     "output_type": "display_data"
    },
    {
     "data": {
      "text/markdown": [
       "**ref**:\n",
       "\n"
      ],
      "text/plain": [
       "<IPython.core.display.Markdown object>"
      ]
     },
     "metadata": {},
     "output_type": "display_data"
    },
    {
     "data": {
      "text/markdown": [
       "---"
      ],
      "text/plain": [
       "<IPython.core.display.Markdown object>"
      ]
     },
     "metadata": {},
     "output_type": "display_data"
    },
    {
     "data": {
      "text/markdown": [
       "## c017.json"
      ],
      "text/plain": [
       "<IPython.core.display.Markdown object>"
      ]
     },
     "metadata": {},
     "output_type": "display_data"
    },
    {
     "data": {
      "text/markdown": [
       "**question**:\n",
       "\n",
       "How can I show the date of orange ?"
      ],
      "text/plain": [
       "<IPython.core.display.Markdown object>"
      ]
     },
     "metadata": {},
     "output_type": "display_data"
    },
    {
     "data": {
      "text/markdown": [
       "**answer**:\n",
       "\n",
       "```envision\n",
       "table Orders[Pid] = with\n",
       "  [| as Pid, as Date, as Quantity |]\n",
       "  [| \"apple\",  date(2020, 4, 15), 3 |]\n",
       "  [| \"pear\",  date(2020, 4, 16), 7 |]\n",
       "  [| \"orange\", date(2020, 4, 17), 2 |]\n",
       "show scalar \"\" with Orders.Date[\"orange\"] // 'Apr 17, 2020'\n",
       "```"
      ],
      "text/plain": [
       "<IPython.core.display.Markdown object>"
      ]
     },
     "metadata": {},
     "output_type": "display_data"
    },
    {
     "data": {
      "text/markdown": [
       "**ref**:\n",
       "\n"
      ],
      "text/plain": [
       "<IPython.core.display.Markdown object>"
      ]
     },
     "metadata": {},
     "output_type": "display_data"
    },
    {
     "data": {
      "text/markdown": [
       "---"
      ],
      "text/plain": [
       "<IPython.core.display.Markdown object>"
      ]
     },
     "metadata": {},
     "output_type": "display_data"
    }
   ],
   "source": [
    "import os\n",
    "for file_path in os.listdir('.'):\n",
    "    if file_path.endswith('.json'):\n",
    "        display(Markdown(f\"## {file_path}\"))\n",
    "        read_json(file_path)\n",
    "        display(Markdown(\"---\"))"
   ]
  },
  {
   "cell_type": "code",
   "execution_count": null,
   "metadata": {},
   "outputs": [],
   "source": []
  }
 ],
 "metadata": {
  "kernelspec": {
   "display_name": "mvd-3d",
   "language": "python",
   "name": "python3"
  },
  "language_info": {
   "codemirror_mode": {
    "name": "ipython",
    "version": 3
   },
   "file_extension": ".py",
   "mimetype": "text/x-python",
   "name": "python",
   "nbconvert_exporter": "python",
   "pygments_lexer": "ipython3",
   "version": "3.10.11"
  }
 },
 "nbformat": 4,
 "nbformat_minor": 2
}
